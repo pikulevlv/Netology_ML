{
 "cells": [
  {
   "cell_type": "markdown",
   "metadata": {},
   "source": [
    "# Домашнее задание\n",
    "\n",
    "- Скачайте текст войны и мир. Очистите его, оставив только русские буквы и символы пробела. Постройте матрицу переходных вероятностей. Посчитайте вероятность встретить строку из 4-х символов, которая начинается п, а кончается на р; Используя матрицу переходных вероятностей сгенерируйте слово, начинающееся с буквы \"Б\" и имеющее длину 8-мь символов\n",
    "- Возьмите ряд и оцените его через HMM. Попробуйте \"построить\" (через среднее каждой компоненты) наивный прогноз ряда."
   ]
  },
  {
   "cell_type": "markdown",
   "metadata": {},
   "source": [
    "1. Скачиваем текст произведения"
   ]
  },
  {
   "cell_type": "code",
   "execution_count": 1,
   "metadata": {},
   "outputs": [
    {
     "name": "stdout",
     "output_type": "stream",
     "text": [
      "Sample from tom number 1\n",
      "\n",
      "– Quelle delicieuse personne, que cette petite princesse! [Что за прелестная особа эта маленькая княгиня!] – сказал князь Василий тихо Анне Павловне.\n",
      "\n",
      "Вскоре после маленькой княгини вошел массивный, толстый молодой человек с стриженою головой, в очках, светлых панталонах по тогдашней моде, с высоким жабо и в коричневом фраке. Этот толстый молодой человек был незаконный сын знаменитого Екатерининского вельможи, графа Безухого, умиравшего теперь в Москве. Он нигде не служил еще, только что приехал из-за границы, где он воспитывался, и был в первый раз в обществе. Анна Павловна приветствовала его поклоном, относящимся к людям самой низшей иерархии в ее салоне. Но, несмотря на это низшее по своему сорту приветствие, при виде вошедшего Пьера в лице Анны Павловны изобразилось беспокойство и страх, подобный тому, который выражается при виде чего-нибудь слишком огромного и несвойственного месту. Хотя, действительно, Пьер был несколько больше других мужчин в комнате, но этот страх мог относиться только к тому умному и вместе робкому, наблюдательному и естественному взгляду, отличавшему его от всех в этой гостиной.\n",
      "\n",
      "--------------------------------------------------\n",
      "Sample from tom number 2\n",
      "\n",
      "– А я то, не знал… Николушка… друг мой!\n",
      "\n",
      "--------------------------------------------------\n",
      "Sample from tom number 3\n",
      "\n",
      "На другой день Наполеон, обогнав армию, в коляске подъехал к Неману и, с тем чтобы осмотреть местность переправы, переоделся в польский мундир и выехал на берег.\n",
      "\n",
      "Увидав на той стороне казаков (les Cosaques) и расстилавшиеся степи (les Steppes), в середине которых была Moscou la ville sainte, [Москва, священный город,] столица того, подобного Скифскому, государства, куда ходил Александр Македонский, – Наполеон, неожиданно для всех и противно как стратегическим, так и дипломатическим соображениям, приказал наступление, и на другой день войска его стали переходить Неман.\n",
      "\n",
      "--------------------------------------------------\n",
      "Sample from tom number 4\n",
      "\n",
      "– Как, как это? – обратилась к нему Анна Павловна, возбуждая молчание для услышания mot, которое она уже знала.\n",
      "\n",
      "--------------------------------------------------\n"
     ]
    }
   ],
   "source": [
    "# Проверяем, что файл читается\n",
    "for i in range(1,5):\n",
    "    print('Sample from tom number {}\\n'.format(i))\n",
    "    count = 0\n",
    "    with open('tom_{}.txt'.format(i), encoding='utf-8') as f:\n",
    "        for row in f:\n",
    "            count += 1\n",
    "            if 300 < count <= 303 and '\\n' != row[0]:\n",
    "                print(row)\n",
    "        print('-'*50)"
   ]
  },
  {
   "cell_type": "code",
   "execution_count": 1,
   "metadata": {},
   "outputs": [],
   "source": [
    "# импортируем библиотеки\n",
    "import numpy as np\n",
    "import re\n",
    "import matplotlib.pyplot as plt\n",
    "from tqdm import tqdm_notebook\n",
    "import seaborn as sns\n",
    "import pandas as pd\n",
    "%matplotlib inline\n",
    "sns.set()"
   ]
  },
  {
   "cell_type": "markdown",
   "metadata": {},
   "source": [
    "2. Очистим его, оставив только русские буквы и символы пробела"
   ]
  },
  {
   "cell_type": "code",
   "execution_count": 3,
   "metadata": {},
   "outputs": [
    {
     "name": "stdout",
     "output_type": "stream",
     "text": [
      "-------------------------DONE PART 1-------------------------\n",
      "-------------------------DONE PART 2-------------------------\n",
      "-------------------------DONE PART 3-------------------------\n",
      "-------------------------DONE PART 4-------------------------\n"
     ]
    }
   ],
   "source": [
    "# создадим новый файл, куда запишем все 4 тома\n",
    "filename = 'all_toms.txt'\n",
    "\n",
    "for i in range(1,5):\n",
    "    with open('tom_{}.txt'.format(i), encoding='utf-8') as f:\n",
    "        for row in f:\n",
    "            \n",
    "            row = re.sub('[^А-Яа-я ]', '', row).strip() # убираем все символы, кроме русских букв и пробелов\n",
    "            row = re.sub(' +', ' ', row).lower() # избавляемся от задублированных пробелов и приводим все к нижнему регистру\n",
    "            with open(filename, 'a') as file_object:\n",
    "                file_object.write(row.strip() + \"\\n\") # записываем в файл строки с символом новой строки на конце \n",
    "                \n",
    "    print('-'*25 + 'DONE PART {}'.format(i) + '-'*25) # трекаем прогресс"
   ]
  },
  {
   "cell_type": "markdown",
   "metadata": {},
   "source": [
    "3. Построим матрицу переходных вероятностей"
   ]
  },
  {
   "cell_type": "code",
   "execution_count": 4,
   "metadata": {},
   "outputs": [
    {
     "name": "stdout",
     "output_type": "stream",
     "text": [
      "\n",
      "\n",
      "\n",
      "\n",
      "\n",
      "\n",
      "лев толстой\n",
      "\n",
      "\n",
      "\n",
      "война и мир\n",
      "\n"
     ]
    }
   ],
   "source": [
    "# убедимся, что новый файл читается корректно\n",
    "count = 0\n",
    "with open('all_toms.txt', 'r') as f:\n",
    "    for row in f:\n",
    "        if count <=5:\n",
    "            print(row)\n",
    "            count += 1\n",
    "# в файле остались символы новой строки, иначе это была бы одна большая строка, которую было бы затруднительно прочитать"
   ]
  },
  {
   "cell_type": "code",
   "execution_count": 5,
   "metadata": {},
   "outputs": [
    {
     "data": {
      "text/plain": [
       "{'а': 0,\n",
       " 'б': 1,\n",
       " 'в': 2,\n",
       " 'г': 3,\n",
       " 'д': 4,\n",
       " 'е': 5,\n",
       " 'ж': 6,\n",
       " 'з': 7,\n",
       " 'и': 8,\n",
       " 'й': 9,\n",
       " 'к': 10,\n",
       " 'л': 11,\n",
       " 'м': 12,\n",
       " 'н': 13,\n",
       " 'о': 14,\n",
       " 'п': 15,\n",
       " 'р': 16,\n",
       " 'с': 17,\n",
       " 'т': 18,\n",
       " 'у': 19,\n",
       " 'ф': 20,\n",
       " 'х': 21,\n",
       " 'ц': 22,\n",
       " 'ч': 23,\n",
       " 'ш': 24,\n",
       " 'щ': 25,\n",
       " 'ъ': 26,\n",
       " 'ы': 27,\n",
       " 'ь': 28,\n",
       " 'э': 29,\n",
       " 'ю': 30,\n",
       " 'я': 31}"
      ]
     },
     "execution_count": 5,
     "metadata": {},
     "output_type": "execute_result"
    }
   ],
   "source": [
    "# определим алфавит\n",
    "RUSSIAN = 'абвгдежзийклмнопрстуфхцчшщъыьэюя'\n",
    "# создадим словарь с ключами буквами и значениями - номерами от 0\n",
    "POS_RU = {l: i for i, l in enumerate(RUSSIAN)}\n",
    "POS_RU "
   ]
  },
  {
   "cell_type": "code",
   "execution_count": 6,
   "metadata": {
    "scrolled": true
   },
   "outputs": [
    {
     "data": {
      "text/plain": [
       "array([[0., 0., 0., ..., 0., 0., 0.],\n",
       "       [0., 0., 0., ..., 0., 0., 0.],\n",
       "       [0., 0., 0., ..., 0., 0., 0.],\n",
       "       ...,\n",
       "       [0., 0., 0., ..., 0., 0., 0.],\n",
       "       [0., 0., 0., ..., 0., 0., 0.],\n",
       "       [0., 0., 0., ..., 0., 0., 0.]])"
      ]
     },
     "execution_count": 6,
     "metadata": {},
     "output_type": "execute_result"
    }
   ],
   "source": [
    "# создадим пока матрицу из нолей, куда запишем вероятности переходов\n",
    "probabilities = np.zeros((len(RUSSIAN), len(RUSSIAN)))\n",
    "probabilities"
   ]
  },
  {
   "cell_type": "code",
   "execution_count": 7,
   "metadata": {
    "scrolled": true
   },
   "outputs": [
    {
     "name": "stdout",
     "output_type": "stream",
     "text": [
      "5000 rows done\n",
      "10000 rows done\n",
      "15000 rows done\n",
      "20000 rows done\n",
      "25000 rows done\n"
     ]
    }
   ],
   "source": [
    "filename = 'all_toms_row.txt' # новый файл, в котором весь текст как одна строка (без символов новой строки)\n",
    "count = 0   \n",
    "with open('all_toms.txt') as f:\n",
    "        for row in f:\n",
    "            \n",
    "            row = re.sub('\\n', ' ', row) # меняем символ новой строки на пробел\n",
    "            row = re.sub(' +', ' ', row) # избавляемся от задублированных пробелов\n",
    "            count +=1\n",
    "            if row[0] != ' ': # если строка начинается с пробела (пустая), то не копируем ее в новый файл\n",
    "                with open(filename, 'a') as file_object:\n",
    "                    file_object.write(row.strip() + \" \")\n",
    "            if count % 5000 == 0:\n",
    "                print('{} rows done'.format(count))\n",
    "            else:\n",
    "                continue"
   ]
  },
  {
   "cell_type": "code",
   "execution_count": 8,
   "metadata": {},
   "outputs": [],
   "source": [
    "# открываем файл для чтения\n",
    "with open(filename, 'r') as f:\n",
    "    all_toms_row = f.read()"
   ]
  },
  {
   "cell_type": "code",
   "execution_count": 9,
   "metadata": {},
   "outputs": [],
   "source": [
    "# бежим по символам (берем предыдущий и текущий)\n",
    "for prev_simvol, curr_simvol in zip(all_toms_row[:-1], all_toms_row[1:]):\n",
    "    try:\n",
    "        probabilities[POS_RU[prev_simvol], POS_RU[curr_simvol]] += 1 # счетчик набегает по количеству встреченных переходов\n",
    "    except:\n",
    "        continue"
   ]
  },
  {
   "cell_type": "code",
   "execution_count": 291,
   "metadata": {},
   "outputs": [
    {
     "data": {
      "application/vnd.jupyter.widget-view+json": {
       "model_id": "14a5e5c3451445f782c6fef16cbe189a",
       "version_major": 2,
       "version_minor": 0
      },
      "text/plain": [
       "HBox(children=(IntProgress(value=1, bar_style='info', max=1), HTML(value='')))"
      ]
     },
     "metadata": {},
     "output_type": "display_data"
    }
   ],
   "source": [
    "for prev_simvol, curr_simvol in tqdm_notebook(zip(all_toms_row[:-1], all_toms_row[1:])):\n",
    "    try:\n",
    "        probabilities[POS_RU[prev_simvol], POS_RU[curr_simvol]] += 1 # счетчик набегает по количеству встреченных переходов\n",
    "    except:\n",
    "        continue\n"
   ]
  },
  {
   "cell_type": "code",
   "execution_count": 10,
   "metadata": {
    "scrolled": true
   },
   "outputs": [
    {
     "name": "stdout",
     "output_type": "stream",
     "text": [
      "22.0\n",
      "536.0\n",
      "7.0\n",
      "(32, 32)\n"
     ]
    }
   ],
   "source": [
    "# имеем все тот же массим, но заполненный целыми числами\n",
    "print(probabilities[0, 0])\n",
    "print(probabilities[2, 18])\n",
    "print(probabilities[20, 30])\n",
    "print(probabilities.shape )"
   ]
  },
  {
   "cell_type": "code",
   "execution_count": 11,
   "metadata": {},
   "outputs": [
    {
     "data": {
      "text/plain": [
       "array([[142874.],\n",
       "       [ 39385.],\n",
       "       [ 88914.],\n",
       "       [ 43140.],\n",
       "       [ 67500.],\n",
       "       [143393.],\n",
       "       [ 23965.],\n",
       "       [ 35968.],\n",
       "       [103836.],\n",
       "       [  5044.],\n",
       "       [ 64878.],\n",
       "       [ 95412.],\n",
       "       [ 48007.],\n",
       "       [137486.],\n",
       "       [206018.],\n",
       "       [ 60460.],\n",
       "       [ 98334.],\n",
       "       [113779.],\n",
       "       [122685.],\n",
       "       [ 46017.],\n",
       "       [  4193.],\n",
       "       [ 10305.],\n",
       "       [  7649.],\n",
       "       [ 32758.],\n",
       "       [ 21082.],\n",
       "       [  6783.],\n",
       "       [   985.],\n",
       "       [ 32803.],\n",
       "       [ 17893.],\n",
       "       [  7015.],\n",
       "       [  6116.],\n",
       "       [ 21009.]])"
      ]
     },
     "execution_count": 11,
     "metadata": {},
     "output_type": "execute_result"
    }
   ],
   "source": [
    "probabilities.sum(axis=1)[:, np.newaxis]"
   ]
  },
  {
   "cell_type": "code",
   "execution_count": 12,
   "metadata": {},
   "outputs": [],
   "source": [
    "# делим значения в столбцах матрицы на общее кол-во встреченных переходов от всех букв к рассмтариваемой\n",
    "probabilities = (probabilities / probabilities.sum(axis=1)[:, None])"
   ]
  },
  {
   "cell_type": "code",
   "execution_count": 13,
   "metadata": {
    "scrolled": false
   },
   "outputs": [
    {
     "data": {
      "text/plain": [
       "array([[1.53981830e-04, 1.13806571e-02, 6.14457494e-02, ...,\n",
       "        1.39983482e-05, 1.43553061e-02, 4.49766928e-02],\n",
       "       [6.62434937e-02, 6.09369049e-04, 5.45893107e-03, ...,\n",
       "        2.53903770e-05, 2.79294148e-04, 2.97575219e-02],\n",
       "       [1.66329262e-01, 4.04885620e-04, 1.00096723e-03, ...,\n",
       "        1.12468228e-05, 1.12468228e-05, 6.20824617e-03],\n",
       "       ...,\n",
       "       [0.00000000e+00, 0.00000000e+00, 1.42551675e-04, ...,\n",
       "        1.42551675e-04, 0.00000000e+00, 0.00000000e+00],\n",
       "       [3.27011118e-04, 1.82635710e-01, 0.00000000e+00, ...,\n",
       "        0.00000000e+00, 1.61870504e-02, 0.00000000e+00],\n",
       "       [9.51972964e-05, 4.85506212e-03, 3.69841497e-02, ...,\n",
       "        0.00000000e+00, 1.49935742e-02, 2.09910039e-02]])"
      ]
     },
     "execution_count": 13,
     "metadata": {},
     "output_type": "execute_result"
    }
   ],
   "source": [
    "probabilities"
   ]
  },
  {
   "cell_type": "code",
   "execution_count": 14,
   "metadata": {},
   "outputs": [
    {
     "name": "stdout",
     "output_type": "stream",
     "text": [
      "0.000153981830144043\n",
      "0.006028297006095778\n",
      "0.001669449081803005\n",
      "(32, 32)\n"
     ]
    }
   ],
   "source": [
    "# получили массим, в котором указаны вероятности (количество благоприятных исходов ко всем исходам)\n",
    "print(probabilities[0, 0])\n",
    "print(probabilities[2, 18])\n",
    "print(probabilities[20, 30])\n",
    "print(probabilities.shape )"
   ]
  },
  {
   "cell_type": "code",
   "execution_count": 15,
   "metadata": {},
   "outputs": [],
   "source": [
    "# переводим все это в датафрейм\n",
    "df = pd.DataFrame(probabilities, index=[c for c in RUSSIAN], columns=[c for c in RUSSIAN])"
   ]
  },
  {
   "cell_type": "code",
   "execution_count": 16,
   "metadata": {
    "scrolled": true
   },
   "outputs": [
    {
     "data": {
      "text/html": [
       "<div>\n",
       "<style scoped>\n",
       "    .dataframe tbody tr th:only-of-type {\n",
       "        vertical-align: middle;\n",
       "    }\n",
       "\n",
       "    .dataframe tbody tr th {\n",
       "        vertical-align: top;\n",
       "    }\n",
       "\n",
       "    .dataframe thead th {\n",
       "        text-align: right;\n",
       "    }\n",
       "</style>\n",
       "<table border=\"1\" class=\"dataframe\">\n",
       "  <thead>\n",
       "    <tr style=\"text-align: right;\">\n",
       "      <th></th>\n",
       "      <th>а</th>\n",
       "      <th>б</th>\n",
       "      <th>в</th>\n",
       "      <th>г</th>\n",
       "      <th>д</th>\n",
       "      <th>е</th>\n",
       "      <th>ж</th>\n",
       "      <th>з</th>\n",
       "      <th>и</th>\n",
       "      <th>й</th>\n",
       "      <th>...</th>\n",
       "      <th>ц</th>\n",
       "      <th>ч</th>\n",
       "      <th>ш</th>\n",
       "      <th>щ</th>\n",
       "      <th>ъ</th>\n",
       "      <th>ы</th>\n",
       "      <th>ь</th>\n",
       "      <th>э</th>\n",
       "      <th>ю</th>\n",
       "      <th>я</th>\n",
       "    </tr>\n",
       "  </thead>\n",
       "  <tbody>\n",
       "    <tr>\n",
       "      <th>а</th>\n",
       "      <td>0.000154</td>\n",
       "      <td>0.011381</td>\n",
       "      <td>0.061446</td>\n",
       "      <td>0.015650</td>\n",
       "      <td>0.035717</td>\n",
       "      <td>0.017967</td>\n",
       "      <td>0.022068</td>\n",
       "      <td>0.074772</td>\n",
       "      <td>0.002198</td>\n",
       "      <td>0.012039</td>\n",
       "      <td>...</td>\n",
       "      <td>0.001267</td>\n",
       "      <td>0.013998</td>\n",
       "      <td>0.024196</td>\n",
       "      <td>0.004451</td>\n",
       "      <td>0.000000</td>\n",
       "      <td>0.000000</td>\n",
       "      <td>0.000000</td>\n",
       "      <td>0.000014</td>\n",
       "      <td>0.014355</td>\n",
       "      <td>0.044977</td>\n",
       "    </tr>\n",
       "    <tr>\n",
       "      <th>б</th>\n",
       "      <td>0.066243</td>\n",
       "      <td>0.000609</td>\n",
       "      <td>0.005459</td>\n",
       "      <td>0.000686</td>\n",
       "      <td>0.001498</td>\n",
       "      <td>0.144090</td>\n",
       "      <td>0.000482</td>\n",
       "      <td>0.000051</td>\n",
       "      <td>0.049435</td>\n",
       "      <td>0.000000</td>\n",
       "      <td>...</td>\n",
       "      <td>0.000203</td>\n",
       "      <td>0.001396</td>\n",
       "      <td>0.000305</td>\n",
       "      <td>0.013660</td>\n",
       "      <td>0.006881</td>\n",
       "      <td>0.276679</td>\n",
       "      <td>0.002539</td>\n",
       "      <td>0.000025</td>\n",
       "      <td>0.000279</td>\n",
       "      <td>0.029758</td>\n",
       "    </tr>\n",
       "    <tr>\n",
       "      <th>в</th>\n",
       "      <td>0.166329</td>\n",
       "      <td>0.000405</td>\n",
       "      <td>0.001001</td>\n",
       "      <td>0.001080</td>\n",
       "      <td>0.009290</td>\n",
       "      <td>0.133612</td>\n",
       "      <td>0.000022</td>\n",
       "      <td>0.014992</td>\n",
       "      <td>0.094496</td>\n",
       "      <td>0.000000</td>\n",
       "      <td>...</td>\n",
       "      <td>0.000371</td>\n",
       "      <td>0.001158</td>\n",
       "      <td>0.035934</td>\n",
       "      <td>0.000124</td>\n",
       "      <td>0.000405</td>\n",
       "      <td>0.076332</td>\n",
       "      <td>0.004949</td>\n",
       "      <td>0.000011</td>\n",
       "      <td>0.000011</td>\n",
       "      <td>0.006208</td>\n",
       "    </tr>\n",
       "    <tr>\n",
       "      <th>г</th>\n",
       "      <td>0.059017</td>\n",
       "      <td>0.000000</td>\n",
       "      <td>0.002434</td>\n",
       "      <td>0.000070</td>\n",
       "      <td>0.065415</td>\n",
       "      <td>0.032221</td>\n",
       "      <td>0.000070</td>\n",
       "      <td>0.000070</td>\n",
       "      <td>0.045086</td>\n",
       "      <td>0.000000</td>\n",
       "      <td>...</td>\n",
       "      <td>0.000093</td>\n",
       "      <td>0.001646</td>\n",
       "      <td>0.000440</td>\n",
       "      <td>0.000000</td>\n",
       "      <td>0.000000</td>\n",
       "      <td>0.000070</td>\n",
       "      <td>0.000116</td>\n",
       "      <td>0.000000</td>\n",
       "      <td>0.000209</td>\n",
       "      <td>0.000070</td>\n",
       "    </tr>\n",
       "    <tr>\n",
       "      <th>д</th>\n",
       "      <td>0.172563</td>\n",
       "      <td>0.001289</td>\n",
       "      <td>0.038681</td>\n",
       "      <td>0.000281</td>\n",
       "      <td>0.001081</td>\n",
       "      <td>0.178489</td>\n",
       "      <td>0.000563</td>\n",
       "      <td>0.000104</td>\n",
       "      <td>0.099941</td>\n",
       "      <td>0.000015</td>\n",
       "      <td>...</td>\n",
       "      <td>0.005941</td>\n",
       "      <td>0.001274</td>\n",
       "      <td>0.004904</td>\n",
       "      <td>0.000015</td>\n",
       "      <td>0.006844</td>\n",
       "      <td>0.024444</td>\n",
       "      <td>0.015941</td>\n",
       "      <td>0.000030</td>\n",
       "      <td>0.001719</td>\n",
       "      <td>0.016874</td>\n",
       "    </tr>\n",
       "  </tbody>\n",
       "</table>\n",
       "<p>5 rows × 32 columns</p>\n",
       "</div>"
      ],
      "text/plain": [
       "          а         б         в         г         д         е         ж  \\\n",
       "а  0.000154  0.011381  0.061446  0.015650  0.035717  0.017967  0.022068   \n",
       "б  0.066243  0.000609  0.005459  0.000686  0.001498  0.144090  0.000482   \n",
       "в  0.166329  0.000405  0.001001  0.001080  0.009290  0.133612  0.000022   \n",
       "г  0.059017  0.000000  0.002434  0.000070  0.065415  0.032221  0.000070   \n",
       "д  0.172563  0.001289  0.038681  0.000281  0.001081  0.178489  0.000563   \n",
       "\n",
       "          з         и         й    ...            ц         ч         ш  \\\n",
       "а  0.074772  0.002198  0.012039    ...     0.001267  0.013998  0.024196   \n",
       "б  0.000051  0.049435  0.000000    ...     0.000203  0.001396  0.000305   \n",
       "в  0.014992  0.094496  0.000000    ...     0.000371  0.001158  0.035934   \n",
       "г  0.000070  0.045086  0.000000    ...     0.000093  0.001646  0.000440   \n",
       "д  0.000104  0.099941  0.000015    ...     0.005941  0.001274  0.004904   \n",
       "\n",
       "          щ         ъ         ы         ь         э         ю         я  \n",
       "а  0.004451  0.000000  0.000000  0.000000  0.000014  0.014355  0.044977  \n",
       "б  0.013660  0.006881  0.276679  0.002539  0.000025  0.000279  0.029758  \n",
       "в  0.000124  0.000405  0.076332  0.004949  0.000011  0.000011  0.006208  \n",
       "г  0.000000  0.000000  0.000070  0.000116  0.000000  0.000209  0.000070  \n",
       "д  0.000015  0.006844  0.024444  0.015941  0.000030  0.001719  0.016874  \n",
       "\n",
       "[5 rows x 32 columns]"
      ]
     },
     "execution_count": 16,
     "metadata": {},
     "output_type": "execute_result"
    }
   ],
   "source": [
    "df.head()"
   ]
  },
  {
   "cell_type": "code",
   "execution_count": 17,
   "metadata": {},
   "outputs": [
    {
     "data": {
      "image/png": "[encoded data removed]",
      "text/plain": [
       "<Figure size 1008x720 with 2 Axes>"
      ]
     },
     "metadata": {
      "needs_background": "light"
     },
     "output_type": "display_data"
    }
   ],
   "source": [
    "# строим тепловую карту. Высокое значение для последовательности \"эт\". Видимо это всякие слова \"этот\", \"эти\" и т.д.\n",
    "plt.figure(figsize=(14,10))\n",
    "sns.heatmap(df)\n",
    "plt.show()"
   ]
  },
  {
   "cell_type": "markdown",
   "metadata": {},
   "source": [
    "4. Посчитайте вероятность встретить строку из 4-х символов, которая начинается п, а кончается на р"
   ]
  },
  {
   "cell_type": "code",
   "execution_count": 19,
   "metadata": {},
   "outputs": [],
   "source": [
    "# Посчитаем вероятность начального состояния цепи для букв русского алфавита"
   ]
  },
  {
   "cell_type": "code",
   "execution_count": 25,
   "metadata": {},
   "outputs": [
    {
     "data": {
      "text/plain": [
       "49426"
      ]
     },
     "execution_count": 25,
     "metadata": {},
     "output_type": "execute_result"
    }
   ],
   "source": [
    "# посчитаем число уникальных слов\n",
    "len(set(all_toms_row.split(' ')))"
   ]
  },
  {
   "cell_type": "code",
   "execution_count": 30,
   "metadata": {
    "scrolled": true
   },
   "outputs": [
    {
     "data": {
      "text/plain": [
       "['',\n",
       " 'натягивать',\n",
       " 'разрушение',\n",
       " 'разумеете',\n",
       " 'темой',\n",
       " 'пахать',\n",
       " 'неизменную',\n",
       " 'тонкости',\n",
       " 'сорвавшись',\n",
       " 'мелу']"
      ]
     },
     "execution_count": 30,
     "metadata": {},
     "output_type": "execute_result"
    }
   ],
   "source": [
    "# грубо прикинем для каждой буквы вероятность того, что с нее начинается случайное слово\n",
    "unique_words = list(set(all_toms_row.split(' ')))\n",
    "unique_words[:10]"
   ]
  },
  {
   "cell_type": "code",
   "execution_count": 35,
   "metadata": {},
   "outputs": [],
   "source": [
    "# удалим первый элемент\n",
    "del unique_words[0]"
   ]
  },
  {
   "cell_type": "code",
   "execution_count": 53,
   "metadata": {},
   "outputs": [
    {
     "data": {
      "text/plain": [
       "{'а': 598,\n",
       " 'б': 2047,\n",
       " 'в': 3914,\n",
       " 'г': 1406,\n",
       " 'д': 2119,\n",
       " 'е': 207,\n",
       " 'ж': 495,\n",
       " 'з': 2361,\n",
       " 'и': 1241,\n",
       " 'й': 3,\n",
       " 'к': 2300,\n",
       " 'л': 965,\n",
       " 'м': 1702,\n",
       " 'н': 3224,\n",
       " 'о': 3828,\n",
       " 'п': 9033,\n",
       " 'р': 2564,\n",
       " 'с': 5167,\n",
       " 'т': 1462,\n",
       " 'у': 2121,\n",
       " 'ф': 418,\n",
       " 'х': 427,\n",
       " 'ц': 197,\n",
       " 'ч': 555,\n",
       " 'ш': 588,\n",
       " 'щ': 77,\n",
       " 'ъ': 1,\n",
       " 'ы': 2,\n",
       " 'ь': 1,\n",
       " 'э': 189,\n",
       " 'ю': 46,\n",
       " 'я': 167}"
      ]
     },
     "execution_count": 53,
     "metadata": {},
     "output_type": "execute_result"
    }
   ],
   "source": [
    "# посчитаем, сколько уникальных слов начинается на каждую букву\n",
    "count_dict = {i:len(list(filter(lambda word: word[0] == i, unique_words))) for i in RUSSIAN}\n",
    "count_dict"
   ]
  },
  {
   "cell_type": "code",
   "execution_count": 54,
   "metadata": {},
   "outputs": [
    {
     "name": "stdout",
     "output_type": "stream",
     "text": [
      "['й', 'йна', 'йны']\n",
      "['ъ']\n",
      "['ыоказали', 'ы']\n",
      "['ь']\n"
     ]
    }
   ],
   "source": [
    "# видны аномалии: слова, начинающиеся с й, ы и т.д. Найдем их:\n",
    "for anomal in 'йъыь':\n",
    "    newlst = list(filter(lambda s: s[0] == anomal, unique_words))\n",
    "    print(newlst)\n",
    "# какие-то опечатки или может разорванные при переносе слова. Проигнорируем это, т.к. таких артефактов всего 7"
   ]
  },
  {
   "cell_type": "code",
   "execution_count": 66,
   "metadata": {},
   "outputs": [
    {
     "data": {
      "text/plain": [
       "array([ 598, 2047, 3914, 1406, 2119,  207,  495, 2361, 1241,    3, 2300,\n",
       "        965, 1702, 3224, 3828, 9033, 2564, 5167, 1462, 2121,  418,  427,\n",
       "        197,  555,  588,   77,    1,    2,    1,  189,   46,  167])"
      ]
     },
     "execution_count": 66,
     "metadata": {},
     "output_type": "execute_result"
    }
   ],
   "source": [
    "# преобразуем значения в массив\n",
    "prob_array =  np.array(list(count_dict.values()))\n",
    "prob_array"
   ]
  },
  {
   "cell_type": "code",
   "execution_count": 69,
   "metadata": {},
   "outputs": [],
   "source": [
    "# чтобы посчитать вероятности\n",
    "prob_array = prob_array / np.sum(prob_array)"
   ]
  },
  {
   "cell_type": "code",
   "execution_count": 70,
   "metadata": {},
   "outputs": [
    {
     "data": {
      "text/plain": [
       "array([1.20991401e-02, 4.14162873e-02, 7.91906930e-02, 2.84471421e-02,\n",
       "       4.28730400e-02, 4.18816388e-03, 1.00151745e-02, 4.77693475e-02,\n",
       "       2.51087506e-02, 6.06980273e-05, 4.65351543e-02, 1.95245321e-02,\n",
       "       3.44360142e-02, 6.52301467e-02, 7.74506829e-02, 1.82761760e-01,\n",
       "       5.18765807e-02, 1.04542236e-01, 2.95801720e-02, 4.29135053e-02,\n",
       "       8.45725847e-03, 8.63935255e-03, 3.98583713e-03, 1.12291351e-02,\n",
       "       1.18968134e-02, 1.55791603e-03, 2.02326758e-05, 4.04653515e-05,\n",
       "       2.02326758e-05, 3.82397572e-03, 9.30703085e-04, 3.37885685e-03])"
      ]
     },
     "execution_count": 70,
     "metadata": {},
     "output_type": "execute_result"
    }
   ],
   "source": [
    "prob_array"
   ]
  },
  {
   "cell_type": "code",
   "execution_count": 77,
   "metadata": {},
   "outputs": [
    {
     "data": {
      "text/plain": [
       "[<matplotlib.lines.Line2D at 0x223794985c0>]"
      ]
     },
     "execution_count": 77,
     "metadata": {},
     "output_type": "execute_result"
    },
    {
     "data": {
      "image/png": "[encoded data removed]",
      "text/plain": [
       "<Figure size 432x288 with 1 Axes>"
      ]
     },
     "metadata": {
      "needs_background": "light"
     },
     "output_type": "display_data"
    }
   ],
   "source": [
    "#Буква П - чемпион, с нее начинается больше всего слов (18% случаев)\n",
    "x = [x for x in RUSSIAN]\n",
    "y = prob_array\n",
    "plt.plot(x,y)"
   ]
  },
  {
   "cell_type": "code",
   "execution_count": 112,
   "metadata": {},
   "outputs": [],
   "source": [
    "# перезапишем значения словаря с абсолютных значений на относительные (вероятность)"
   ]
  },
  {
   "cell_type": "code",
   "execution_count": 87,
   "metadata": {},
   "outputs": [
    {
     "data": {
      "text/plain": [
       "{'а': 0.012099140111279716,\n",
       " 'б': 0.041416287303995956,\n",
       " 'в': 0.07919069296914517,\n",
       " 'г': 0.028447142134547295,\n",
       " 'д': 0.04287303995953465,\n",
       " 'е': 0.004188163884673748,\n",
       " 'ж': 0.010015174506828529,\n",
       " 'з': 0.04776934749620637,\n",
       " 'и': 0.025108750632271117,\n",
       " 'й': 6.069802731411229e-05,\n",
       " 'к': 0.04653515427415276,\n",
       " 'л': 0.019524532119372787,\n",
       " 'м': 0.03443601416287304,\n",
       " 'н': 0.06523014668689935,\n",
       " 'о': 0.07745068285280729,\n",
       " 'п': 0.18276176024279212,\n",
       " 'р': 0.05187658067779464,\n",
       " 'с': 0.10454223571067274,\n",
       " 'т': 0.029580171977744058,\n",
       " 'у': 0.04291350531107739,\n",
       " 'ф': 0.008457258472432979,\n",
       " 'х': 0.008639352554375316,\n",
       " 'ц': 0.0039858371269600405,\n",
       " 'ч': 0.011229135053110774,\n",
       " 'ш': 0.011896813353566009,\n",
       " 'щ': 0.0015579160343955488,\n",
       " 'ъ': 2.0232675771370762e-05,\n",
       " 'ы': 4.0465351542741524e-05,\n",
       " 'ь': 2.0232675771370762e-05,\n",
       " 'э': 0.0038239757207890746,\n",
       " 'ю': 0.0009307030854830552,\n",
       " 'я': 0.0033788568538189174}"
      ]
     },
     "execution_count": 87,
     "metadata": {},
     "output_type": "execute_result"
    }
   ],
   "source": [
    "for i,j in zip(list(prob_dict.keys()) , list(prob_array)):\n",
    "    prob_dict[i] = j\n",
    "prob_dict"
   ]
  },
  {
   "cell_type": "code",
   "execution_count": 90,
   "metadata": {},
   "outputs": [
    {
     "data": {
      "text/plain": [
       "0.18276176024279212"
      ]
     },
     "execution_count": 90,
     "metadata": {},
     "output_type": "execute_result"
    }
   ],
   "source": [
    "# Вероятность начального состояния цепи для буквы \"п\" составляет \n",
    "prob_dict['п']"
   ]
  },
  {
   "cell_type": "code",
   "execution_count": 110,
   "metadata": {},
   "outputs": [],
   "source": [
    "# Найдем уже вероятность встретить строку из 4-х символов, которая начинается п, а кончается на р\n",
    "start = 'п' #первая буква\n",
    "end = 'р' #вторая буква\n",
    "start_proba = prob_dict[start] #вероятность того, что слово начинается с буквы \"п\"\n",
    "proba = 0 #искомая вероятность, пока равняется нулю\n",
    "\n",
    "for letter_vert in RUSSIAN: #для каждой буквы алфавита\n",
    "    for letter_hor in RUSSIAN: # итерируем тоже каждую букву алфавита\n",
    "        # перемножаем вероятности (считаем, что событие переход од n-ной буквы к n+1 букве - это независимое событие)\n",
    "        proba += start_proba *\\\n",
    "            probabilities[POS_RU[start], POS_RU[letter_vert]] *\\\n",
    "            probabilities[POS_RU[letter_vert], POS_RU[letter_hor]] *\\\n",
    "            probabilities[POS_RU[letter_hor], POS_RU[end]]"
   ]
  },
  {
   "cell_type": "code",
   "execution_count": 111,
   "metadata": {},
   "outputs": [
    {
     "data": {
      "text/plain": [
       "0.007286308654753215"
      ]
     },
     "execution_count": 111,
     "metadata": {},
     "output_type": "execute_result"
    }
   ],
   "source": [
    "proba"
   ]
  },
  {
   "cell_type": "markdown",
   "metadata": {},
   "source": [
    "5. Используя матрицу переходных вероятностей сгенерируйте слово, начинающееся с буквы \"Б\" и имеющее длину 8-мь символов"
   ]
  },
  {
   "cell_type": "code",
   "execution_count": 207,
   "metadata": {
    "scrolled": true
   },
   "outputs": [
    {
     "name": "stdout",
     "output_type": "stream",
     "text": [
      "бытоналд\n"
     ]
    }
   ],
   "source": [
    "import random\n",
    "\n",
    "x = 8 # задаем длину слова\n",
    "start = 'б' # задаем первую букву слова\n",
    "\n",
    "word = start\n",
    "while x > 1: # пока счетчик не закончится генерим следующую букву на основе верояиностей из probabilities\n",
    "    # в параметр weights передаем список вероятностей для всех букв\n",
    "    letter = random.choices([w for w in RUSSIAN], weights=list(probabilities[POS_RU[start], :]))[0]\n",
    "    word += letter # добавляем получившуюся букву к слова\n",
    "    start = letter # следующий цикл начинаем с получившейся буквы\n",
    "    #print(word)\n",
    "    x -= 1\n",
    "print(word)"
   ]
  },
  {
   "cell_type": "code",
   "execution_count": 208,
   "metadata": {},
   "outputs": [
    {
     "data": {
      "text/plain": [
       "['бускомет',\n",
       " 'беенажец',\n",
       " 'борогово',\n",
       " 'бымиличе',\n",
       " 'белющепо',\n",
       " 'бакомиму',\n",
       " 'богомико',\n",
       " 'бволижег',\n",
       " 'буюбубим',\n",
       " 'быловсла']"
      ]
     },
     "execution_count": 208,
     "metadata": {},
     "output_type": "execute_result"
    }
   ],
   "source": [
    "# это очень забавно. Захотелось сгенерить десяток таких слов. Можно сделать шутеечное приложение для писателей для генерации\n",
    "# имен персонажей в стиле, например, книжек Толкиена и т.д.\n",
    "\n",
    "new_vocabulary = []\n",
    "for i in range(10):\n",
    "    x = 8 # задаем длину слова\n",
    "    start = 'б' # задаем первую букву слова\n",
    "\n",
    "    word = start\n",
    "    while x > 1: # пока счетчик не закончится генерим следующую букву на основе верояиностей из probabilities\n",
    "    # в параметр weights передаем список вероятностей для всех букв\n",
    "        letter = random.choices([w for w in RUSSIAN], weights=list(probabilities[POS_RU[start], :]))[0]\n",
    "        word += letter # добавляем получившуюся букву к слова\n",
    "        start = letter # следующий цикл начинаем с получившейся буквы\n",
    "        #print(word)\n",
    "        x -= 1\n",
    "    new_vocabulary.append(word)\n",
    "new_vocabulary"
   ]
  },
  {
   "cell_type": "markdown",
   "metadata": {},
   "source": [
    "6. Возьмите ряд и оцените его через HMM. Попробуйте \"построить\" (через среднее каждой компоненты) наивный прогноз ряда."
   ]
  },
  {
   "cell_type": "code",
   "execution_count": 83,
   "metadata": {},
   "outputs": [],
   "source": [
    "from hmmlearn import hmm\n",
    "from hmmlearn.hmm import GaussianHMM"
   ]
  },
  {
   "cell_type": "code",
   "execution_count": 84,
   "metadata": {},
   "outputs": [],
   "source": [
    "df = pd.read_csv('numbers-on-unemployment-benefits1.csv')\n",
    "df.columns = ['Month', 'Numbers']\n",
    "df.dropna(inplace=True)"
   ]
  },
  {
   "cell_type": "code",
   "execution_count": 85,
   "metadata": {},
   "outputs": [],
   "source": [
    "series = df['Numbers'].values[:, np.newaxis]"
   ]
  },
  {
   "cell_type": "code",
   "execution_count": 86,
   "metadata": {
    "scrolled": true
   },
   "outputs": [
    {
     "name": "stdout",
     "output_type": "stream",
     "text": [
      "1 -6052.087693811389\n",
      "2 -5328.153028537578\n",
      "3 -5192.687019289387\n",
      "4 -5130.695412154089\n",
      "5 -5070.071719670107\n",
      "6 -4940.746091508953\n",
      "7 -4914.212212091035\n",
      "8 -4876.090717576338\n",
      "9 -4850.611135801662\n",
      "10 -4831.930400686669\n",
      "11 -4778.549219200038\n",
      "12 -4761.895883645519\n",
      "13 -4746.516794600678\n",
      "14 -4747.93633052679\n",
      "15 -4718.121559319837\n",
      "16 -4717.70359227037\n",
      "17 -4673.93626997342\n",
      "18 -4645.5709058893335\n",
      "19 -4649.131097751185\n",
      "20 -4621.727808396676\n"
     ]
    }
   ],
   "source": [
    "# посчитаем score для разных количеств состояний\n",
    "elbow = []\n",
    "for n in range(1, 21):\n",
    "    model = GaussianHMM(n_components=n,\n",
    "                        covariance_type=\"diag\",\n",
    "                        n_iter=1000)\n",
    "    model.fit(series)\n",
    "    print (n, model.score(series))\n",
    "    elbow.append(model.score(series))"
   ]
  },
  {
   "cell_type": "code",
   "execution_count": 87,
   "metadata": {},
   "outputs": [
    {
     "data": {
      "text/plain": [
       "[<matplotlib.lines.Line2D at 0x1d29aab8eb8>]"
      ]
     },
     "execution_count": 87,
     "metadata": {},
     "output_type": "execute_result"
    },
    {
     "data": {
      "image/png": "[encoded data removed]",
      "text/plain": [
       "<Figure size 432x288 with 1 Axes>"
      ]
     },
     "metadata": {
      "needs_background": "light"
     },
     "output_type": "display_data"
    }
   ],
   "source": [
    "# трудно выбрать на глаз количество компонент\n",
    "plt.plot(elbow)"
   ]
  },
  {
   "cell_type": "code",
   "execution_count": 88,
   "metadata": {},
   "outputs": [
    {
     "data": {
      "text/plain": [
       "[<matplotlib.lines.Line2D at 0x1d29ab1cbe0>]"
      ]
     },
     "execution_count": 88,
     "metadata": {},
     "output_type": "execute_result"
    },
    {
     "data": {
      "image/png": "[encoded data removed]",
      "text/plain": [
       "<Figure size 864x432 with 1 Axes>"
      ]
     },
     "metadata": {
      "needs_background": "light"
     },
     "output_type": "display_data"
    }
   ],
   "source": [
    "# на глаз - как-будто бы есть 4 уровня графика. Пусть n_components будет равно 4\n",
    "# чем больше n_components, тем \n",
    "model = GaussianHMM(n_components=4,\n",
    "                        covariance_type=\"diag\",\n",
    "                        n_iter=1000)\n",
    "model.fit(series)\n",
    "labels = model.predict(series) # не прогнозирует, а восстанавливает метки скрытых состояний\n",
    "means = np.zeros_like(series)\n",
    "for i in range(model.n_components):\n",
    "    means[labels == i] = model.means_[i] # получаем значения средней для каждого уровн (компоненты)\n",
    "    \n",
    "plt.figure(figsize=(12, 6))\n",
    "plt.plot(series)\n",
    "plt.plot(means, linewidth=3)"
   ]
  },
  {
   "cell_type": "code",
   "execution_count": 89,
   "metadata": {},
   "outputs": [
    {
     "data": {
      "image/png": "[encoded data removed]",
      "text/plain": [
       "<Figure size 864x432 with 1 Axes>"
      ]
     },
     "metadata": {
      "needs_background": "light"
     },
     "output_type": "display_data"
    }
   ],
   "source": [
    "plt.figure(figsize=(12,6))\n",
    "plt.plot(labels[:])\n",
    "plt.show()"
   ]
  },
  {
   "cell_type": "code",
   "execution_count": 90,
   "metadata": {},
   "outputs": [],
   "source": [
    "# спрогнозируем 20 последних значений\n",
    "cur_value = labels[-1]\n",
    "predictions = []\n",
    "for _ in range(20):\n",
    "    cur_value = np.random.choice(4, p=model.transmat_[cur_value])\n",
    "    predictions.append(model.means_[cur_value])"
   ]
  },
  {
   "cell_type": "code",
   "execution_count": 91,
   "metadata": {},
   "outputs": [
    {
     "data": {
      "text/plain": [
       "array([9.52102339e-003, 1.41904408e-157, 4.09901407e-043, 9.90478977e-001])"
      ]
     },
     "execution_count": 91,
     "metadata": {},
     "output_type": "execute_result"
    }
   ],
   "source": [
    "model.transmat_[cur_value]"
   ]
  },
  {
   "cell_type": "code",
   "execution_count": 92,
   "metadata": {
    "scrolled": true
   },
   "outputs": [
    {
     "data": {
      "text/plain": [
       "[array([576613.19803585]),\n",
       " array([576613.19803585]),\n",
       " array([576613.19803585]),\n",
       " array([576613.19803585]),\n",
       " array([576613.19803585]),\n",
       " array([576613.19803585]),\n",
       " array([576613.19803585]),\n",
       " array([576613.19803585]),\n",
       " array([576613.19803585]),\n",
       " array([576613.19803585]),\n",
       " array([576613.19803585]),\n",
       " array([576613.19803585]),\n",
       " array([576613.19803585]),\n",
       " array([576613.19803585]),\n",
       " array([576613.19803585]),\n",
       " array([576613.19803585]),\n",
       " array([576613.19803585]),\n",
       " array([576613.19803585]),\n",
       " array([576613.19803585]),\n",
       " array([576613.19803585])]"
      ]
     },
     "execution_count": 92,
     "metadata": {},
     "output_type": "execute_result"
    }
   ],
   "source": [
    "# посмотрим на предсказания\n",
    "predictions"
   ]
  },
  {
   "cell_type": "code",
   "execution_count": 93,
   "metadata": {},
   "outputs": [],
   "source": [
    "# из списка массивов переведем в массив\n",
    "predictions = list(map(lambda x: [x[0]], list(predictions)))"
   ]
  },
  {
   "cell_type": "code",
   "execution_count": 94,
   "metadata": {},
   "outputs": [],
   "source": [
    "# соединим прогноз и исходный ряд\n",
    "new_ser = np.concatenate((series, np.array(predictions)))"
   ]
  },
  {
   "cell_type": "code",
   "execution_count": 102,
   "metadata": {},
   "outputs": [
    {
     "data": {
      "image/png": "[encoded data removed]",
      "text/plain": [
       "<Figure size 1152x864 with 1 Axes>"
      ]
     },
     "metadata": {
      "needs_background": "light"
     },
     "output_type": "display_data"
    }
   ],
   "source": [
    "# рисуем\n",
    "plt.figure(figsize=(16,12))\n",
    "plt.plot(new_ser)\n",
    "plt.plot(series, linewidth=3)\n",
    "plt.plot(means)\n",
    "plt.show()"
   ]
  },
  {
   "cell_type": "code",
   "execution_count": null,
   "metadata": {},
   "outputs": [],
   "source": []
  }
 ],
 "metadata": {
  "kernelspec": {
   "display_name": "Python 3",
   "language": "python",
   "name": "python3"
  },
  "language_info": {
   "codemirror_mode": {
    "name": "ipython",
    "version": 3
   },
   "file_extension": ".py",
   "mimetype": "text/x-python",
   "name": "python",
   "nbconvert_exporter": "python",
   "pygments_lexer": "ipython3",
   "version": "3.7.3"
  }
 },
 "nbformat": 4,
 "nbformat_minor": 2
}
