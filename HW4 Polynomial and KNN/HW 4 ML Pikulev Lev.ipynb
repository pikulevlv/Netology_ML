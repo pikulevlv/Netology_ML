{
 "cells": [
  {
   "cell_type": "markdown",
   "metadata": {},
   "source": [
    "## Поиск наиболее близкого имени участника\n"
   ]
  },
  {
   "cell_type": "markdown",
   "metadata": {},
   "source": [
    "Попытки установить python-levenshtein оказались бездарной тратой времени.\n",
    "\n",
    "Установим jellyfish"
   ]
  },
  {
   "cell_type": "code",
   "execution_count": 8,
   "metadata": {},
   "outputs": [],
   "source": [
    "#!pip install jellyfish\n",
    "import jellyfish"
   ]
  },
  {
   "cell_type": "code",
   "execution_count": 37,
   "metadata": {},
   "outputs": [
    {
     "name": "stdout",
     "output_type": "stream",
     "text": [
      "1\n",
      "0\n",
      "5\n",
      "5\n"
     ]
    }
   ],
   "source": [
    "# работает так\n",
    "print(jellyfish.levenshtein_distance('Анна', 'анна'))\n",
    "print(jellyfish.levenshtein_distance('Анна'.lower(), 'анна'.lower()))\n",
    "print(jellyfish.levenshtein_distance('анна-мария', 'анна-иоанна'))\n",
    "print(jellyfish.levenshtein_distance('анна-иоанна', 'анна-мария'))\n"
   ]
  },
  {
   "cell_type": "code",
   "execution_count": 14,
   "metadata": {},
   "outputs": [],
   "source": [
    "import numpy as np\n",
    "import pandas as pd"
   ]
  },
  {
   "cell_type": "code",
   "execution_count": 15,
   "metadata": {},
   "outputs": [],
   "source": [
    "# что было написано в заявке\n",
    "\n",
    "claim_list = [\n",
    "    'Шехавцова Анна',\n",
    "    'Гречихина Наталья',\n",
    "    'Козлова Алена',\n",
    "    'Груздева Алина',\n",
    "    'Кущенко Анна',\n",
    "    'Чистякова Анастасия'\n",
    "]"
   ]
  },
  {
   "cell_type": "code",
   "execution_count": 16,
   "metadata": {},
   "outputs": [],
   "source": [
    "# результат расшифровки речи диктора\n",
    "\n",
    "speech_recognition = [\n",
    "    'кучменко она',\n",
    "    'кущенко оксана',\n",
    "    'груздь алина',\n",
    "    'рычихина наталья',\n",
    "    'шиховцева на',\n",
    "    'чистова анастасия'\n",
    "]"
   ]
  },
  {
   "cell_type": "markdown",
   "metadata": {},
   "source": [
    "### С библиотекой jellyfish"
   ]
  },
  {
   "cell_type": "code",
   "execution_count": 17,
   "metadata": {},
   "outputs": [
    {
     "name": "stdout",
     "output_type": "stream",
     "text": [
      "кучменко она\n",
      "кущенко оксана\n",
      "груздь алина\n",
      "рычихина наталья\n",
      "шиховцева на\n",
      "чистова анастасия\n"
     ]
    }
   ],
   "source": [
    "# посмотрим на распознанные имена\n",
    "for recognized_name in speech_recognition:\n",
    "    print(recognized_name)"
   ]
  },
  {
   "cell_type": "code",
   "execution_count": 59,
   "metadata": {},
   "outputs": [
    {
     "data": {
      "text/html": [
       "<div>\n",
       "<style scoped>\n",
       "    .dataframe tbody tr th:only-of-type {\n",
       "        vertical-align: middle;\n",
       "    }\n",
       "\n",
       "    .dataframe tbody tr th {\n",
       "        vertical-align: top;\n",
       "    }\n",
       "\n",
       "    .dataframe thead th {\n",
       "        text-align: right;\n",
       "    }\n",
       "</style>\n",
       "<table border=\"1\" class=\"dataframe\">\n",
       "  <thead>\n",
       "    <tr style=\"text-align: right;\">\n",
       "      <th></th>\n",
       "      <th>Распознанные ФИ</th>\n",
       "      <th>Настоящие ФИ</th>\n",
       "      <th>Расстояние Левенштейна</th>\n",
       "    </tr>\n",
       "  </thead>\n",
       "  <tbody>\n",
       "    <tr>\n",
       "      <th>0</th>\n",
       "      <td>кучменко она</td>\n",
       "      <td>Шехавцова Анна</td>\n",
       "      <td>11</td>\n",
       "    </tr>\n",
       "    <tr>\n",
       "      <th>1</th>\n",
       "      <td>кучменко она</td>\n",
       "      <td>Гречихина Наталья</td>\n",
       "      <td>14</td>\n",
       "    </tr>\n",
       "    <tr>\n",
       "      <th>2</th>\n",
       "      <td>кучменко она</td>\n",
       "      <td>Козлова Алена</td>\n",
       "      <td>11</td>\n",
       "    </tr>\n",
       "    <tr>\n",
       "      <th>3</th>\n",
       "      <td>кучменко она</td>\n",
       "      <td>Груздева Алина</td>\n",
       "      <td>10</td>\n",
       "    </tr>\n",
       "    <tr>\n",
       "      <th>4</th>\n",
       "      <td>кучменко она</td>\n",
       "      <td>Кущенко Анна</td>\n",
       "      <td>5</td>\n",
       "    </tr>\n",
       "    <tr>\n",
       "      <th>5</th>\n",
       "      <td>кучменко она</td>\n",
       "      <td>Чистякова Анастасия</td>\n",
       "      <td>15</td>\n",
       "    </tr>\n",
       "    <tr>\n",
       "      <th>6</th>\n",
       "      <td>кущенко оксана</td>\n",
       "      <td>Шехавцова Анна</td>\n",
       "      <td>11</td>\n",
       "    </tr>\n",
       "    <tr>\n",
       "      <th>7</th>\n",
       "      <td>кущенко оксана</td>\n",
       "      <td>Гречихина Наталья</td>\n",
       "      <td>15</td>\n",
       "    </tr>\n",
       "    <tr>\n",
       "      <th>8</th>\n",
       "      <td>кущенко оксана</td>\n",
       "      <td>Козлова Алена</td>\n",
       "      <td>11</td>\n",
       "    </tr>\n",
       "    <tr>\n",
       "      <th>9</th>\n",
       "      <td>кущенко оксана</td>\n",
       "      <td>Груздева Алина</td>\n",
       "      <td>11</td>\n",
       "    </tr>\n",
       "    <tr>\n",
       "      <th>10</th>\n",
       "      <td>кущенко оксана</td>\n",
       "      <td>Кущенко Анна</td>\n",
       "      <td>5</td>\n",
       "    </tr>\n",
       "    <tr>\n",
       "      <th>11</th>\n",
       "      <td>кущенко оксана</td>\n",
       "      <td>Чистякова Анастасия</td>\n",
       "      <td>14</td>\n",
       "    </tr>\n",
       "    <tr>\n",
       "      <th>12</th>\n",
       "      <td>груздь алина</td>\n",
       "      <td>Шехавцова Анна</td>\n",
       "      <td>11</td>\n",
       "    </tr>\n",
       "    <tr>\n",
       "      <th>13</th>\n",
       "      <td>груздь алина</td>\n",
       "      <td>Гречихина Наталья</td>\n",
       "      <td>14</td>\n",
       "    </tr>\n",
       "    <tr>\n",
       "      <th>14</th>\n",
       "      <td>груздь алина</td>\n",
       "      <td>Козлова Алена</td>\n",
       "      <td>9</td>\n",
       "    </tr>\n",
       "    <tr>\n",
       "      <th>15</th>\n",
       "      <td>груздь алина</td>\n",
       "      <td>Груздева Алина</td>\n",
       "      <td>5</td>\n",
       "    </tr>\n",
       "    <tr>\n",
       "      <th>16</th>\n",
       "      <td>груздь алина</td>\n",
       "      <td>Кущенко Анна</td>\n",
       "      <td>10</td>\n",
       "    </tr>\n",
       "    <tr>\n",
       "      <th>17</th>\n",
       "      <td>груздь алина</td>\n",
       "      <td>Чистякова Анастасия</td>\n",
       "      <td>16</td>\n",
       "    </tr>\n",
       "    <tr>\n",
       "      <th>18</th>\n",
       "      <td>рычихина наталья</td>\n",
       "      <td>Шехавцова Анна</td>\n",
       "      <td>14</td>\n",
       "    </tr>\n",
       "    <tr>\n",
       "      <th>19</th>\n",
       "      <td>рычихина наталья</td>\n",
       "      <td>Гречихина Наталья</td>\n",
       "      <td>3</td>\n",
       "    </tr>\n",
       "    <tr>\n",
       "      <th>20</th>\n",
       "      <td>рычихина наталья</td>\n",
       "      <td>Козлова Алена</td>\n",
       "      <td>14</td>\n",
       "    </tr>\n",
       "    <tr>\n",
       "      <th>21</th>\n",
       "      <td>рычихина наталья</td>\n",
       "      <td>Груздева Алина</td>\n",
       "      <td>14</td>\n",
       "    </tr>\n",
       "    <tr>\n",
       "      <th>22</th>\n",
       "      <td>рычихина наталья</td>\n",
       "      <td>Кущенко Анна</td>\n",
       "      <td>14</td>\n",
       "    </tr>\n",
       "    <tr>\n",
       "      <th>23</th>\n",
       "      <td>рычихина наталья</td>\n",
       "      <td>Чистякова Анастасия</td>\n",
       "      <td>12</td>\n",
       "    </tr>\n",
       "    <tr>\n",
       "      <th>24</th>\n",
       "      <td>шиховцева на</td>\n",
       "      <td>Шехавцова Анна</td>\n",
       "      <td>6</td>\n",
       "    </tr>\n",
       "    <tr>\n",
       "      <th>25</th>\n",
       "      <td>шиховцева на</td>\n",
       "      <td>Гречихина Наталья</td>\n",
       "      <td>14</td>\n",
       "    </tr>\n",
       "    <tr>\n",
       "      <th>26</th>\n",
       "      <td>шиховцева на</td>\n",
       "      <td>Козлова Алена</td>\n",
       "      <td>9</td>\n",
       "    </tr>\n",
       "    <tr>\n",
       "      <th>27</th>\n",
       "      <td>шиховцева на</td>\n",
       "      <td>Груздева Алина</td>\n",
       "      <td>9</td>\n",
       "    </tr>\n",
       "    <tr>\n",
       "      <th>28</th>\n",
       "      <td>шиховцева на</td>\n",
       "      <td>Кущенко Анна</td>\n",
       "      <td>10</td>\n",
       "    </tr>\n",
       "    <tr>\n",
       "      <th>29</th>\n",
       "      <td>шиховцева на</td>\n",
       "      <td>Чистякова Анастасия</td>\n",
       "      <td>13</td>\n",
       "    </tr>\n",
       "    <tr>\n",
       "      <th>30</th>\n",
       "      <td>чистова анастасия</td>\n",
       "      <td>Шехавцова Анна</td>\n",
       "      <td>13</td>\n",
       "    </tr>\n",
       "    <tr>\n",
       "      <th>31</th>\n",
       "      <td>чистова анастасия</td>\n",
       "      <td>Гречихина Наталья</td>\n",
       "      <td>12</td>\n",
       "    </tr>\n",
       "    <tr>\n",
       "      <th>32</th>\n",
       "      <td>чистова анастасия</td>\n",
       "      <td>Козлова Алена</td>\n",
       "      <td>12</td>\n",
       "    </tr>\n",
       "    <tr>\n",
       "      <th>33</th>\n",
       "      <td>чистова анастасия</td>\n",
       "      <td>Груздева Алина</td>\n",
       "      <td>14</td>\n",
       "    </tr>\n",
       "    <tr>\n",
       "      <th>34</th>\n",
       "      <td>чистова анастасия</td>\n",
       "      <td>Кущенко Анна</td>\n",
       "      <td>14</td>\n",
       "    </tr>\n",
       "    <tr>\n",
       "      <th>35</th>\n",
       "      <td>чистова анастасия</td>\n",
       "      <td>Чистякова Анастасия</td>\n",
       "      <td>4</td>\n",
       "    </tr>\n",
       "  </tbody>\n",
       "</table>\n",
       "</div>"
      ],
      "text/plain": [
       "      Распознанные ФИ         Настоящие ФИ  Расстояние Левенштейна\n",
       "0        кучменко она       Шехавцова Анна                      11\n",
       "1        кучменко она    Гречихина Наталья                      14\n",
       "2        кучменко она        Козлова Алена                      11\n",
       "3        кучменко она       Груздева Алина                      10\n",
       "4        кучменко она         Кущенко Анна                       5\n",
       "5        кучменко она  Чистякова Анастасия                      15\n",
       "6      кущенко оксана       Шехавцова Анна                      11\n",
       "7      кущенко оксана    Гречихина Наталья                      15\n",
       "8      кущенко оксана        Козлова Алена                      11\n",
       "9      кущенко оксана       Груздева Алина                      11\n",
       "10     кущенко оксана         Кущенко Анна                       5\n",
       "11     кущенко оксана  Чистякова Анастасия                      14\n",
       "12       груздь алина       Шехавцова Анна                      11\n",
       "13       груздь алина    Гречихина Наталья                      14\n",
       "14       груздь алина        Козлова Алена                       9\n",
       "15       груздь алина       Груздева Алина                       5\n",
       "16       груздь алина         Кущенко Анна                      10\n",
       "17       груздь алина  Чистякова Анастасия                      16\n",
       "18   рычихина наталья       Шехавцова Анна                      14\n",
       "19   рычихина наталья    Гречихина Наталья                       3\n",
       "20   рычихина наталья        Козлова Алена                      14\n",
       "21   рычихина наталья       Груздева Алина                      14\n",
       "22   рычихина наталья         Кущенко Анна                      14\n",
       "23   рычихина наталья  Чистякова Анастасия                      12\n",
       "24       шиховцева на       Шехавцова Анна                       6\n",
       "25       шиховцева на    Гречихина Наталья                      14\n",
       "26       шиховцева на        Козлова Алена                       9\n",
       "27       шиховцева на       Груздева Алина                       9\n",
       "28       шиховцева на         Кущенко Анна                      10\n",
       "29       шиховцева на  Чистякова Анастасия                      13\n",
       "30  чистова анастасия       Шехавцова Анна                      13\n",
       "31  чистова анастасия    Гречихина Наталья                      12\n",
       "32  чистова анастасия        Козлова Алена                      12\n",
       "33  чистова анастасия       Груздева Алина                      14\n",
       "34  чистова анастасия         Кущенко Анна                      14\n",
       "35  чистова анастасия  Чистякова Анастасия                       4"
      ]
     },
     "execution_count": 59,
     "metadata": {},
     "output_type": "execute_result"
    }
   ],
   "source": [
    "rm, rn, ld = [], [], []\n",
    "for recognized_name in speech_recognition:\n",
    "    for real_name in claim_list:\n",
    "        rm.append(recognized_name)\n",
    "        rn.append(real_name)\n",
    "        ld.append(jellyfish.levenshtein_distance(recognized_name, real_name))\n",
    "        #print('{},{},{}'.format(recognized_name, real_name, jellyfish.levenshtein_distance(recognized_name, real_name)))\n",
    "data_names = pd.DataFrame({'Распознанные ФИ' : rm, 'Настоящие ФИ' : rn, 'Расстояние Левенштейна' : ld})\n",
    "data_names"
   ]
  },
  {
   "cell_type": "markdown",
   "metadata": {},
   "source": [
    "### Без библиотеки из файла 'recognized_stats.txt'\n"
   ]
  },
  {
   "cell_type": "code",
   "execution_count": 23,
   "metadata": {},
   "outputs": [],
   "source": [
    "f = open('recognized_stats.txt', mode = 'r', encoding = 'utf-8')"
   ]
  },
  {
   "cell_type": "code",
   "execution_count": 31,
   "metadata": {},
   "outputs": [
    {
     "name": "stdout",
     "output_type": "stream",
     "text": [
      "кучменко она,Шехавцова Анна,11;кучменко она,Гречихина Наталья,14;кучменко она,Козлова Алена,11;кучменко она,Груздева Алина,10;кучменко она,Кущенко Анна,5;кучменко она,Чистякова Анастасия,15\n",
      "\n",
      "кущенко оксана,Шехавцова Анна,11;кущенко оксана,Гречихина Наталья,15;кущенко оксана,Козлова Алена,11;кущенко оксана,Груздева Алина,11;кущенко оксана,Кущенко Анна,5;кущенко оксана,Чистякова Анастасия,14\n",
      "\n",
      "груздь алина,Шехавцова Анна,11;груздь алина,Гречихина Наталья,14;груздь алина,Козлова Алена,9;груздь алина,Груздева Алина,5;груздь алина,Кущенко Анна,10;груздь алина,Чистякова Анастасия,16\n",
      "\n",
      "рычихина наталья,Шехавцова Анна,14;рычихина наталья,Гречихина Наталья,3;рычихина наталья,Козлова Алена,14;рычихина наталья,Груздева Алина,14;рычихина наталья,Кущенко Анна,14;рычихина наталья,Чистякова Анастасия,12\n",
      "\n",
      "шиховцева на,Шехавцова Анна,6;шиховцева на,Гречихина Наталья,14;шиховцева на,Козлова Алена,9;шиховцева на,Груздева Алина,9;шиховцева на,Кущенко Анна,10;шиховцева на,Чистякова Анастасия,13\n",
      "\n",
      "чистова анастасия,Шехавцова Анна,13;чистова анастасия,Гречихина Наталья,12;чистова анастасия,Козлова Алена,12;чистова анастасия,Груздева Алина,14;чистова анастасия,Кущенко Анна,14;чистова анастасия,Чистякова Анастасия,4\n"
     ]
    }
   ],
   "source": [
    "with open('recognized_stats.txt', mode = 'r', encoding = 'utf-8') as file_object:\n",
    "    for line in file_object:\n",
    "        print(line)\n",
    "    "
   ]
  },
  {
   "cell_type": "code",
   "execution_count": 24,
   "metadata": {},
   "outputs": [],
   "source": [
    "# создадим пустой список для записи расстояний\n",
    "distances = []"
   ]
  },
  {
   "cell_type": "code",
   "execution_count": 26,
   "metadata": {},
   "outputs": [],
   "source": [
    "# создадим список\n",
    "\n",
    "lines = [line.strip().split(';') for line in f]"
   ]
  },
  {
   "cell_type": "code",
   "execution_count": 33,
   "metadata": {},
   "outputs": [
    {
     "data": {
      "text/plain": [
       "'как работает'"
      ]
     },
     "execution_count": 33,
     "metadata": {},
     "output_type": "execute_result"
    }
   ],
   "source": [
    "' как работает '.strip()"
   ]
  },
  {
   "cell_type": "code",
   "execution_count": 27,
   "metadata": {},
   "outputs": [
    {
     "data": {
      "text/plain": [
       "[['кучменко она,Шехавцова Анна,11',\n",
       "  'кучменко она,Гречихина Наталья,14',\n",
       "  'кучменко она,Козлова Алена,11',\n",
       "  'кучменко она,Груздева Алина,10',\n",
       "  'кучменко она,Кущенко Анна,5',\n",
       "  'кучменко она,Чистякова Анастасия,15'],\n",
       " ['кущенко оксана,Шехавцова Анна,11',\n",
       "  'кущенко оксана,Гречихина Наталья,15',\n",
       "  'кущенко оксана,Козлова Алена,11',\n",
       "  'кущенко оксана,Груздева Алина,11',\n",
       "  'кущенко оксана,Кущенко Анна,5',\n",
       "  'кущенко оксана,Чистякова Анастасия,14'],\n",
       " ['груздь алина,Шехавцова Анна,11',\n",
       "  'груздь алина,Гречихина Наталья,14',\n",
       "  'груздь алина,Козлова Алена,9',\n",
       "  'груздь алина,Груздева Алина,5',\n",
       "  'груздь алина,Кущенко Анна,10',\n",
       "  'груздь алина,Чистякова Анастасия,16'],\n",
       " ['рычихина наталья,Шехавцова Анна,14',\n",
       "  'рычихина наталья,Гречихина Наталья,3',\n",
       "  'рычихина наталья,Козлова Алена,14',\n",
       "  'рычихина наталья,Груздева Алина,14',\n",
       "  'рычихина наталья,Кущенко Анна,14',\n",
       "  'рычихина наталья,Чистякова Анастасия,12'],\n",
       " ['шиховцева на,Шехавцова Анна,6',\n",
       "  'шиховцева на,Гречихина Наталья,14',\n",
       "  'шиховцева на,Козлова Алена,9',\n",
       "  'шиховцева на,Груздева Алина,9',\n",
       "  'шиховцева на,Кущенко Анна,10',\n",
       "  'шиховцева на,Чистякова Анастасия,13'],\n",
       " ['чистова анастасия,Шехавцова Анна,13',\n",
       "  'чистова анастасия,Гречихина Наталья,12',\n",
       "  'чистова анастасия,Козлова Алена,12',\n",
       "  'чистова анастасия,Груздева Алина,14',\n",
       "  'чистова анастасия,Кущенко Анна,14',\n",
       "  'чистова анастасия,Чистякова Анастасия,4']]"
      ]
     },
     "execution_count": 27,
     "metadata": {},
     "output_type": "execute_result"
    }
   ],
   "source": [
    "lines"
   ]
  },
  {
   "cell_type": "code",
   "execution_count": 34,
   "metadata": {},
   "outputs": [
    {
     "name": "stdout",
     "output_type": "stream",
     "text": [
      "кучменко она Шехавцова Анна 11\n",
      "кучменко она Гречихина Наталья 14\n",
      "кучменко она Козлова Алена 11\n",
      "кучменко она Груздева Алина 10\n",
      "кучменко она Кущенко Анна 5\n",
      "кучменко она Чистякова Анастасия 15\n",
      "кущенко оксана Шехавцова Анна 11\n",
      "кущенко оксана Гречихина Наталья 15\n",
      "кущенко оксана Козлова Алена 11\n",
      "кущенко оксана Груздева Алина 11\n",
      "кущенко оксана Кущенко Анна 5\n",
      "кущенко оксана Чистякова Анастасия 14\n",
      "груздь алина Шехавцова Анна 11\n",
      "груздь алина Гречихина Наталья 14\n",
      "груздь алина Козлова Алена 9\n",
      "груздь алина Груздева Алина 5\n",
      "груздь алина Кущенко Анна 10\n",
      "груздь алина Чистякова Анастасия 16\n",
      "рычихина наталья Шехавцова Анна 14\n",
      "рычихина наталья Гречихина Наталья 3\n",
      "рычихина наталья Козлова Алена 14\n",
      "рычихина наталья Груздева Алина 14\n",
      "рычихина наталья Кущенко Анна 14\n",
      "рычихина наталья Чистякова Анастасия 12\n",
      "шиховцева на Шехавцова Анна 6\n",
      "шиховцева на Гречихина Наталья 14\n",
      "шиховцева на Козлова Алена 9\n",
      "шиховцева на Груздева Алина 9\n",
      "шиховцева на Кущенко Анна 10\n",
      "шиховцева на Чистякова Анастасия 13\n",
      "чистова анастасия Шехавцова Анна 13\n",
      "чистова анастасия Гречихина Наталья 12\n",
      "чистова анастасия Козлова Алена 12\n",
      "чистова анастасия Груздева Алина 14\n",
      "чистова анастасия Кущенко Анна 14\n",
      "чистова анастасия Чистякова Анастасия 4\n"
     ]
    }
   ],
   "source": [
    "for line in lines:\n",
    "    \n",
    "    for rec in line:\n",
    "        recognized_name, real_name, distance = rec.split(',')\n",
    "        print(recognized_name, real_name, distance)"
   ]
  },
  {
   "cell_type": "markdown",
   "metadata": {},
   "source": [
    "### Сортировка словаря\n"
   ]
  },
  {
   "cell_type": "code",
   "execution_count": 38,
   "metadata": {},
   "outputs": [
    {
     "name": "stdout",
     "output_type": "stream",
     "text": [
      "{'Шехавцова Анна': 11, 'Гречихина Наталья': 14, 'Козлова Алена': 11, 'Груздева Алина': 10, 'Кущенко Анна': 5, 'Чистякова Анастасия': 15}\n"
     ]
    }
   ],
   "source": [
    "# создадим словарь с ключом \"Распознанное имя\" и значением \"Расстояние Левенштейна\"\n",
    "for recognized_name in speech_recognition:\n",
    "    distances = {real_name: jellyfish.levenshtein_distance(recognized_name, real_name) for real_name in claim_list}\n",
    "    print(distances)\n",
    "    \n",
    "    break"
   ]
  },
  {
   "cell_type": "code",
   "execution_count": 39,
   "metadata": {},
   "outputs": [
    {
     "data": {
      "text/plain": [
       "[('Чистякова Анастасия', 15),\n",
       " ('Гречихина Наталья', 14),\n",
       " ('Шехавцова Анна', 11),\n",
       " ('Козлова Алена', 11),\n",
       " ('Груздева Алина', 10),\n",
       " ('Кущенко Анна', 5)]"
      ]
     },
     "execution_count": 39,
     "metadata": {},
     "output_type": "execute_result"
    }
   ],
   "source": [
    "# x[1] - сортировка по значениям словаря по возрастанию (если надо по убыванию - добавляем минус перед x[1])\n",
    "# x[0] - по ключам\n",
    "sorted(distances.items(), key = lambda x: -x[1])"
   ]
  },
  {
   "cell_type": "code",
   "execution_count": 48,
   "metadata": {},
   "outputs": [
    {
     "data": {
      "text/plain": [
       "[('Кущенко Анна', 5),\n",
       " ('Груздева Алина', 10),\n",
       " ('Шехавцова Анна', 11),\n",
       " ('Козлова Алена', 11),\n",
       " ('Гречихина Наталья', 14),\n",
       " ('Чистякова Анастасия', 15)]"
      ]
     },
     "execution_count": 48,
     "metadata": {},
     "output_type": "execute_result"
    }
   ],
   "source": [
    "sorted(distances.items(), key=lambda x: x[1])"
   ]
  },
  {
   "cell_type": "markdown",
   "metadata": {},
   "source": [
    "#### Задание 1\n",
    "\n",
    "Завершаем практическое задание №2.\n",
    "\n",
    "Необходимо для каждой распознанной фамилии вывести на экран наиболее подходящий вариант из стартового протокола"
   ]
  },
  {
   "cell_type": "code",
   "execution_count": 111,
   "metadata": {},
   "outputs": [
    {
     "data": {
      "text/html": [
       "<div>\n",
       "<style scoped>\n",
       "    .dataframe tbody tr th:only-of-type {\n",
       "        vertical-align: middle;\n",
       "    }\n",
       "\n",
       "    .dataframe tbody tr th {\n",
       "        vertical-align: top;\n",
       "    }\n",
       "\n",
       "    .dataframe thead th {\n",
       "        text-align: right;\n",
       "    }\n",
       "</style>\n",
       "<table border=\"1\" class=\"dataframe\">\n",
       "  <thead>\n",
       "    <tr style=\"text-align: right;\">\n",
       "      <th></th>\n",
       "      <th></th>\n",
       "      <th>Распознанные ФИ</th>\n",
       "    </tr>\n",
       "    <tr>\n",
       "      <th>Настоящие ФИ</th>\n",
       "      <th>Расстояние Левенштейна</th>\n",
       "      <th></th>\n",
       "    </tr>\n",
       "  </thead>\n",
       "  <tbody>\n",
       "    <tr>\n",
       "      <th rowspan=\"4\" valign=\"top\">Гречихина Наталья</th>\n",
       "      <th>3</th>\n",
       "      <td>рычихина наталья</td>\n",
       "    </tr>\n",
       "    <tr>\n",
       "      <th>12</th>\n",
       "      <td>чистова анастасия</td>\n",
       "    </tr>\n",
       "    <tr>\n",
       "      <th>14</th>\n",
       "      <td>шиховцева на</td>\n",
       "    </tr>\n",
       "    <tr>\n",
       "      <th>15</th>\n",
       "      <td>кущенко оксана</td>\n",
       "    </tr>\n",
       "    <tr>\n",
       "      <th rowspan=\"5\" valign=\"top\">Груздева Алина</th>\n",
       "      <th>5</th>\n",
       "      <td>груздь алина</td>\n",
       "    </tr>\n",
       "    <tr>\n",
       "      <th>9</th>\n",
       "      <td>шиховцева на</td>\n",
       "    </tr>\n",
       "    <tr>\n",
       "      <th>10</th>\n",
       "      <td>кучменко она</td>\n",
       "    </tr>\n",
       "    <tr>\n",
       "      <th>11</th>\n",
       "      <td>кущенко оксана</td>\n",
       "    </tr>\n",
       "    <tr>\n",
       "      <th>14</th>\n",
       "      <td>чистова анастасия</td>\n",
       "    </tr>\n",
       "    <tr>\n",
       "      <th rowspan=\"4\" valign=\"top\">Козлова Алена</th>\n",
       "      <th>9</th>\n",
       "      <td>шиховцева на</td>\n",
       "    </tr>\n",
       "    <tr>\n",
       "      <th>11</th>\n",
       "      <td>кущенко оксана</td>\n",
       "    </tr>\n",
       "    <tr>\n",
       "      <th>12</th>\n",
       "      <td>чистова анастасия</td>\n",
       "    </tr>\n",
       "    <tr>\n",
       "      <th>14</th>\n",
       "      <td>рычихина наталья</td>\n",
       "    </tr>\n",
       "    <tr>\n",
       "      <th rowspan=\"3\" valign=\"top\">Кущенко Анна</th>\n",
       "      <th>5</th>\n",
       "      <td>кущенко оксана</td>\n",
       "    </tr>\n",
       "    <tr>\n",
       "      <th>10</th>\n",
       "      <td>шиховцева на</td>\n",
       "    </tr>\n",
       "    <tr>\n",
       "      <th>14</th>\n",
       "      <td>чистова анастасия</td>\n",
       "    </tr>\n",
       "    <tr>\n",
       "      <th rowspan=\"6\" valign=\"top\">Чистякова Анастасия</th>\n",
       "      <th>4</th>\n",
       "      <td>чистова анастасия</td>\n",
       "    </tr>\n",
       "    <tr>\n",
       "      <th>12</th>\n",
       "      <td>рычихина наталья</td>\n",
       "    </tr>\n",
       "    <tr>\n",
       "      <th>13</th>\n",
       "      <td>шиховцева на</td>\n",
       "    </tr>\n",
       "    <tr>\n",
       "      <th>14</th>\n",
       "      <td>кущенко оксана</td>\n",
       "    </tr>\n",
       "    <tr>\n",
       "      <th>15</th>\n",
       "      <td>кучменко она</td>\n",
       "    </tr>\n",
       "    <tr>\n",
       "      <th>16</th>\n",
       "      <td>груздь алина</td>\n",
       "    </tr>\n",
       "    <tr>\n",
       "      <th rowspan=\"4\" valign=\"top\">Шехавцова Анна</th>\n",
       "      <th>6</th>\n",
       "      <td>шиховцева на</td>\n",
       "    </tr>\n",
       "    <tr>\n",
       "      <th>11</th>\n",
       "      <td>кущенко оксана</td>\n",
       "    </tr>\n",
       "    <tr>\n",
       "      <th>13</th>\n",
       "      <td>чистова анастасия</td>\n",
       "    </tr>\n",
       "    <tr>\n",
       "      <th>14</th>\n",
       "      <td>рычихина наталья</td>\n",
       "    </tr>\n",
       "  </tbody>\n",
       "</table>\n",
       "</div>"
      ],
      "text/plain": [
       "                                              Распознанные ФИ\n",
       "Настоящие ФИ        Расстояние Левенштейна                   \n",
       "Гречихина Наталья   3                        рычихина наталья\n",
       "                    12                      чистова анастасия\n",
       "                    14                           шиховцева на\n",
       "                    15                         кущенко оксана\n",
       "Груздева Алина      5                            груздь алина\n",
       "                    9                            шиховцева на\n",
       "                    10                           кучменко она\n",
       "                    11                         кущенко оксана\n",
       "                    14                      чистова анастасия\n",
       "Козлова Алена       9                            шиховцева на\n",
       "                    11                         кущенко оксана\n",
       "                    12                      чистова анастасия\n",
       "                    14                       рычихина наталья\n",
       "Кущенко Анна        5                          кущенко оксана\n",
       "                    10                           шиховцева на\n",
       "                    14                      чистова анастасия\n",
       "Чистякова Анастасия 4                       чистова анастасия\n",
       "                    12                       рычихина наталья\n",
       "                    13                           шиховцева на\n",
       "                    14                         кущенко оксана\n",
       "                    15                           кучменко она\n",
       "                    16                           груздь алина\n",
       "Шехавцова Анна      6                            шиховцева на\n",
       "                    11                         кущенко оксана\n",
       "                    13                      чистова анастасия\n",
       "                    14                       рычихина наталья"
      ]
     },
     "execution_count": 111,
     "metadata": {},
     "output_type": "execute_result"
    }
   ],
   "source": [
    "# хочется выбрать сортировкой из датафрейма, но не ясно, \n",
    "# как оставить в результате только минимальные значения Расстояние Левенштейна по оригинальному имени\n",
    "data_names.groupby(['Настоящие ФИ', 'Расстояние Левенштейна']).max().sort_values(by=['Настоящие ФИ','Расстояние Левенштейна'])"
   ]
  },
  {
   "cell_type": "code",
   "execution_count": 109,
   "metadata": {},
   "outputs": [
    {
     "name": "stdout",
     "output_type": "stream",
     "text": [
      "кучменко она ('Кущенко Анна', 5)\n",
      "кущенко оксана ('Кущенко Анна', 5)\n",
      "груздь алина ('Груздева Алина', 5)\n",
      "рычихина наталья ('Гречихина Наталья', 3)\n",
      "шиховцева на ('Шехавцова Анна', 6)\n",
      "чистова анастасия ('Чистякова Анастасия', 4)\n"
     ]
    }
   ],
   "source": [
    "# решим иначе\n",
    "for recognized_name in speech_recognition:\n",
    "    distances = {real_name: jellyfish.levenshtein_distance(recognized_name, real_name) for real_name in claim_list}\n",
    "    # выводим распознанное имя из списка и первый элемент отсортированного по значениям словаря\n",
    "    print(recognized_name,sorted(distances.items(), key = lambda x: x[1])[0]) "
   ]
  },
  {
   "cell_type": "markdown",
   "metadata": {},
   "source": [
    "#### Задание 2\n",
    "Постройте модель kNN для распознавания цифр. \n",
    "Посчитайте получившееся значение точности (последняя строка в файле 7. kNN digits.ipynb)"
   ]
  },
  {
   "cell_type": "code",
   "execution_count": 192,
   "metadata": {},
   "outputs": [],
   "source": [
    "from sklearn import datasets\n",
    "from sklearn.neighbors import KNeighborsClassifier"
   ]
  },
  {
   "cell_type": "code",
   "execution_count": 193,
   "metadata": {},
   "outputs": [],
   "source": [
    "digits = datasets.load_digits()"
   ]
  },
  {
   "cell_type": "code",
   "execution_count": 194,
   "metadata": {},
   "outputs": [
    {
     "data": {
      "text/plain": [
       "{'data': array([[ 0.,  0.,  5., ...,  0.,  0.,  0.],\n",
       "        [ 0.,  0.,  0., ..., 10.,  0.,  0.],\n",
       "        [ 0.,  0.,  0., ..., 16.,  9.,  0.],\n",
       "        ...,\n",
       "        [ 0.,  0.,  1., ...,  6.,  0.,  0.],\n",
       "        [ 0.,  0.,  2., ..., 12.,  0.,  0.],\n",
       "        [ 0.,  0., 10., ..., 12.,  1.,  0.]]),\n",
       " 'target': array([0, 1, 2, ..., 8, 9, 8]),\n",
       " 'target_names': array([0, 1, 2, 3, 4, 5, 6, 7, 8, 9]),\n",
       " 'images': array([[[ 0.,  0.,  5., ...,  1.,  0.,  0.],\n",
       "         [ 0.,  0., 13., ..., 15.,  5.,  0.],\n",
       "         [ 0.,  3., 15., ..., 11.,  8.,  0.],\n",
       "         ...,\n",
       "         [ 0.,  4., 11., ..., 12.,  7.,  0.],\n",
       "         [ 0.,  2., 14., ..., 12.,  0.,  0.],\n",
       "         [ 0.,  0.,  6., ...,  0.,  0.,  0.]],\n",
       " \n",
       "        [[ 0.,  0.,  0., ...,  5.,  0.,  0.],\n",
       "         [ 0.,  0.,  0., ...,  9.,  0.,  0.],\n",
       "         [ 0.,  0.,  3., ...,  6.,  0.,  0.],\n",
       "         ...,\n",
       "         [ 0.,  0.,  1., ...,  6.,  0.,  0.],\n",
       "         [ 0.,  0.,  1., ...,  6.,  0.,  0.],\n",
       "         [ 0.,  0.,  0., ..., 10.,  0.,  0.]],\n",
       " \n",
       "        [[ 0.,  0.,  0., ..., 12.,  0.,  0.],\n",
       "         [ 0.,  0.,  3., ..., 14.,  0.,  0.],\n",
       "         [ 0.,  0.,  8., ..., 16.,  0.,  0.],\n",
       "         ...,\n",
       "         [ 0.,  9., 16., ...,  0.,  0.,  0.],\n",
       "         [ 0.,  3., 13., ..., 11.,  5.,  0.],\n",
       "         [ 0.,  0.,  0., ..., 16.,  9.,  0.]],\n",
       " \n",
       "        ...,\n",
       " \n",
       "        [[ 0.,  0.,  1., ...,  1.,  0.,  0.],\n",
       "         [ 0.,  0., 13., ...,  2.,  1.,  0.],\n",
       "         [ 0.,  0., 16., ..., 16.,  5.,  0.],\n",
       "         ...,\n",
       "         [ 0.,  0., 16., ..., 15.,  0.,  0.],\n",
       "         [ 0.,  0., 15., ..., 16.,  0.,  0.],\n",
       "         [ 0.,  0.,  2., ...,  6.,  0.,  0.]],\n",
       " \n",
       "        [[ 0.,  0.,  2., ...,  0.,  0.,  0.],\n",
       "         [ 0.,  0., 14., ..., 15.,  1.,  0.],\n",
       "         [ 0.,  4., 16., ..., 16.,  7.,  0.],\n",
       "         ...,\n",
       "         [ 0.,  0.,  0., ..., 16.,  2.,  0.],\n",
       "         [ 0.,  0.,  4., ..., 16.,  2.,  0.],\n",
       "         [ 0.,  0.,  5., ..., 12.,  0.,  0.]],\n",
       " \n",
       "        [[ 0.,  0., 10., ...,  1.,  0.,  0.],\n",
       "         [ 0.,  2., 16., ...,  1.,  0.,  0.],\n",
       "         [ 0.,  0., 15., ..., 15.,  0.,  0.],\n",
       "         ...,\n",
       "         [ 0.,  4., 16., ..., 16.,  6.,  0.],\n",
       "         [ 0.,  8., 16., ..., 16.,  8.,  0.],\n",
       "         [ 0.,  1.,  8., ..., 12.,  1.,  0.]]]),\n",
       " 'DESCR': \".. _digits_dataset:\\n\\nOptical recognition of handwritten digits dataset\\n--------------------------------------------------\\n\\n**Data Set Characteristics:**\\n\\n    :Number of Instances: 5620\\n    :Number of Attributes: 64\\n    :Attribute Information: 8x8 image of integer pixels in the range 0..16.\\n    :Missing Attribute Values: None\\n    :Creator: E. Alpaydin (alpaydin '@' boun.edu.tr)\\n    :Date: July; 1998\\n\\nThis is a copy of the test set of the UCI ML hand-written digits datasets\\nhttp://archive.ics.uci.edu/ml/datasets/Optical+Recognition+of+Handwritten+Digits\\n\\nThe data set contains images of hand-written digits: 10 classes where\\neach class refers to a digit.\\n\\nPreprocessing programs made available by NIST were used to extract\\nnormalized bitmaps of handwritten digits from a preprinted form. From a\\ntotal of 43 people, 30 contributed to the training set and different 13\\nto the test set. 32x32 bitmaps are divided into nonoverlapping blocks of\\n4x4 and the number of on pixels are counted in each block. This generates\\nan input matrix of 8x8 where each element is an integer in the range\\n0..16. This reduces dimensionality and gives invariance to small\\ndistortions.\\n\\nFor info on NIST preprocessing routines, see M. D. Garris, J. L. Blue, G.\\nT. Candela, D. L. Dimmick, J. Geist, P. J. Grother, S. A. Janet, and C.\\nL. Wilson, NIST Form-Based Handprint Recognition System, NISTIR 5469,\\n1994.\\n\\n.. topic:: References\\n\\n  - C. Kaynak (1995) Methods of Combining Multiple Classifiers and Their\\n    Applications to Handwritten Digit Recognition, MSc Thesis, Institute of\\n    Graduate Studies in Science and Engineering, Bogazici University.\\n  - E. Alpaydin, C. Kaynak (1998) Cascading Classifiers, Kybernetika.\\n  - Ken Tang and Ponnuthurai N. Suganthan and Xi Yao and A. Kai Qin.\\n    Linear dimensionalityreduction using relevance weighted LDA. School of\\n    Electrical and Electronic Engineering Nanyang Technological University.\\n    2005.\\n  - Claudio Gentile. A New Approximate Maximal Margin Classification\\n    Algorithm. NIPS. 2000.\"}"
      ]
     },
     "execution_count": 194,
     "metadata": {},
     "output_type": "execute_result"
    }
   ],
   "source": [
    "digits"
   ]
  },
  {
   "cell_type": "markdown",
   "metadata": {},
   "source": [
    "Пример первой цифры"
   ]
  },
  {
   "cell_type": "code",
   "execution_count": 195,
   "metadata": {},
   "outputs": [
    {
     "data": {
      "text/plain": [
       "array([ 0.,  0.,  5., 13.,  9.,  1.,  0.,  0.,  0.,  0., 13., 15., 10.,\n",
       "       15.,  5.,  0.,  0.,  3., 15.,  2.,  0., 11.,  8.,  0.,  0.,  4.,\n",
       "       12.,  0.,  0.,  8.,  8.,  0.,  0.,  5.,  8.,  0.,  0.,  9.,  8.,\n",
       "        0.,  0.,  4., 11.,  0.,  1., 12.,  7.,  0.,  0.,  2., 14.,  5.,\n",
       "       10., 12.,  0.,  0.,  0.,  0.,  6., 13., 10.,  0.,  0.,  0.])"
      ]
     },
     "execution_count": 195,
     "metadata": {},
     "output_type": "execute_result"
    }
   ],
   "source": [
    "digits['data'][0]"
   ]
  },
  {
   "cell_type": "code",
   "execution_count": 196,
   "metadata": {},
   "outputs": [
    {
     "data": {
      "text/plain": [
       "array([[ 0.,  0.,  5., 13.,  9.,  1.,  0.,  0.],\n",
       "       [ 0.,  0., 13., 15., 10., 15.,  5.,  0.],\n",
       "       [ 0.,  3., 15.,  2.,  0., 11.,  8.,  0.],\n",
       "       [ 0.,  4., 12.,  0.,  0.,  8.,  8.,  0.],\n",
       "       [ 0.,  5.,  8.,  0.,  0.,  9.,  8.,  0.],\n",
       "       [ 0.,  4., 11.,  0.,  1., 12.,  7.,  0.],\n",
       "       [ 0.,  2., 14.,  5., 10., 12.,  0.,  0.],\n",
       "       [ 0.,  0.,  6., 13., 10.,  0.,  0.,  0.]])"
      ]
     },
     "execution_count": 196,
     "metadata": {},
     "output_type": "execute_result"
    }
   ],
   "source": [
    "digits['data'][0].reshape(8, 8)"
   ]
  },
  {
   "cell_type": "code",
   "execution_count": 197,
   "metadata": {},
   "outputs": [
    {
     "data": {
      "text/plain": [
       "array([0, 1, 2, 3, 4, 5, 6, 7, 8, 9, 0, 1, 2, 3, 4, 5, 6, 7, 8, 9])"
      ]
     },
     "execution_count": 197,
     "metadata": {},
     "output_type": "execute_result"
    }
   ],
   "source": [
    "digits['target'][:20]"
   ]
  },
  {
   "cell_type": "markdown",
   "metadata": {},
   "source": [
    "Нарисуем пример цифры"
   ]
  },
  {
   "cell_type": "code",
   "execution_count": 198,
   "metadata": {},
   "outputs": [],
   "source": [
    "import matplotlib.pyplot as plt"
   ]
  },
  {
   "cell_type": "code",
   "execution_count": 199,
   "metadata": {},
   "outputs": [
    {
     "data": {
      "text/plain": [
       "<Figure size 432x288 with 0 Axes>"
      ]
     },
     "metadata": {},
     "output_type": "display_data"
    },
    {
     "data": {
      "image/png": "[encoded data removed]",
      "text/plain": [
       "<Figure size 288x288 with 1 Axes>"
      ]
     },
     "metadata": {
      "needs_background": "light"
     },
     "output_type": "display_data"
    },
    {
     "data": {
      "image/png": "[encoded data removed]",
      "text/plain": [
       "<Figure size 288x288 with 1 Axes>"
      ]
     },
     "metadata": {
      "needs_background": "light"
     },
     "output_type": "display_data"
    },
    {
     "data": {
      "image/png": "[encoded data removed]",
      "text/plain": [
       "<Figure size 288x288 with 1 Axes>"
      ]
     },
     "metadata": {
      "needs_background": "light"
     },
     "output_type": "display_data"
    },
    {
     "data": {
      "image/png": "[encoded data removed]",
      "text/plain": [
       "<Figure size 288x288 with 1 Axes>"
      ]
     },
     "metadata": {
      "needs_background": "light"
     },
     "output_type": "display_data"
    },
    {
     "data": {
      "image/png": "[encoded data removed]",
      "text/plain": [
       "<Figure size 288x288 with 1 Axes>"
      ]
     },
     "metadata": {
      "needs_background": "light"
     },
     "output_type": "display_data"
    },
    {
     "data": {
      "image/png": "[encoded data removed]",
      "text/plain": [
       "<Figure size 288x288 with 1 Axes>"
      ]
     },
     "metadata": {
      "needs_background": "light"
     },
     "output_type": "display_data"
    }
   ],
   "source": [
    "plt.gray()\n",
    "for i in range(0, 6):\n",
    "    plt.matshow(digits.images[i])\n",
    "    \n",
    "plt.show()"
   ]
  },
  {
   "cell_type": "markdown",
   "metadata": {},
   "source": [
    "Признаки и целевая переменная"
   ]
  },
  {
   "cell_type": "code",
   "execution_count": 200,
   "metadata": {},
   "outputs": [],
   "source": [
    "X_digits = digits.data\n",
    "Y_digits = digits.target"
   ]
  },
  {
   "cell_type": "markdown",
   "metadata": {},
   "source": [
    "Количество цифр в данных"
   ]
  },
  {
   "cell_type": "code",
   "execution_count": 201,
   "metadata": {},
   "outputs": [
    {
     "data": {
      "text/plain": [
       "1797"
      ]
     },
     "execution_count": 201,
     "metadata": {},
     "output_type": "execute_result"
    }
   ],
   "source": [
    "n_samples = len( X_digits )\n",
    "n_samples"
   ]
  },
  {
   "cell_type": "markdown",
   "metadata": {},
   "source": [
    "Разобьем данные на обучающую выборку и тест в пропорции 90 / 10"
   ]
  },
  {
   "cell_type": "code",
   "execution_count": 202,
   "metadata": {},
   "outputs": [
    {
     "data": {
      "text/plain": [
       "1617"
      ]
     },
     "execution_count": 202,
     "metadata": {},
     "output_type": "execute_result"
    }
   ],
   "source": [
    "split = int( n_samples * .9 )\n",
    "split"
   ]
  },
  {
   "cell_type": "markdown",
   "metadata": {},
   "source": [
    "Обучающая выборка"
   ]
  },
  {
   "cell_type": "code",
   "execution_count": 203,
   "metadata": {},
   "outputs": [],
   "source": [
    "X_train = X_digits[:split]\n",
    "Y_train = Y_digits[:split]"
   ]
  },
  {
   "cell_type": "markdown",
   "metadata": {},
   "source": [
    "Формируем тестовую выборку и обучаем модель knn"
   ]
  },
  {
   "cell_type": "code",
   "execution_count": 204,
   "metadata": {},
   "outputs": [],
   "source": [
    "X_test = X_digits[split:]\n",
    "Y_test = Y_digits[split:]"
   ]
  },
  {
   "cell_type": "code",
   "execution_count": 205,
   "metadata": {},
   "outputs": [
    {
     "data": {
      "text/plain": [
       "True"
      ]
     },
     "execution_count": 205,
     "metadata": {},
     "output_type": "execute_result"
    }
   ],
   "source": [
    "# проверяем количество элементов\n",
    "len(X_train) + len(X_test) == len(Y_train) + len(Y_test)"
   ]
  },
  {
   "cell_type": "code",
   "execution_count": 206,
   "metadata": {},
   "outputs": [],
   "source": [
    "from sklearn import neighbors"
   ]
  },
  {
   "cell_type": "code",
   "execution_count": 207,
   "metadata": {},
   "outputs": [],
   "source": [
    "# на глаз задаем количество соседей, которое будем учитывать в KNN\n",
    "n_neighbors = 3"
   ]
  },
  {
   "cell_type": "code",
   "execution_count": 208,
   "metadata": {},
   "outputs": [],
   "source": [
    "# определяем модель\n",
    "knn = neighbors.KNeighborsRegressor( n_neighbors, weights = 'uniform' )\n",
    "#'uniform': равномерный вес. Все точки в каждом районе взвешиваются одинаково."
   ]
  },
  {
   "cell_type": "code",
   "execution_count": 209,
   "metadata": {},
   "outputs": [
    {
     "data": {
      "text/plain": [
       "KNeighborsRegressor(algorithm='auto', leaf_size=30, metric='minkowski',\n",
       "          metric_params=None, n_jobs=None, n_neighbors=3, p=2,\n",
       "          weights='uniform')"
      ]
     },
     "execution_count": 209,
     "metadata": {},
     "output_type": "execute_result"
    }
   ],
   "source": [
    "# фитимся\n",
    "knn.fit( X_train, Y_train )"
   ]
  },
  {
   "cell_type": "code",
   "execution_count": 210,
   "metadata": {
    "scrolled": true
   },
   "outputs": [
    {
     "data": {
      "text/plain": [
       "array([5.        , 2.        , 8.        , 0.        , 1.        ,\n",
       "       7.        , 6.        , 3.        , 2.        , 1.        ,\n",
       "       7.        , 7.33333333, 6.        , 3.        , 1.        ,\n",
       "       5.        , 9.        , 1.        , 7.        , 6.        ,\n",
       "       8.        , 4.        , 3.        , 1.        , 4.        ,\n",
       "       0.        , 5.        , 3.        , 6.        , 9.        ,\n",
       "       6.        , 1.        , 7.        , 5.        , 4.        ,\n",
       "       4.        , 7.        , 2.        , 2.        , 5.        ,\n",
       "       7.        , 3.        , 5.        , 6.66666667, 4.        ,\n",
       "       6.33333333, 0.        , 8.        , 9.        , 7.66666667,\n",
       "       0.        , 1.        , 2.        , 3.        , 4.        ,\n",
       "       5.        , 6.        , 7.        , 8.        , 9.        ,\n",
       "       0.        , 1.        , 2.        , 3.        , 4.        ,\n",
       "       5.        , 6.        , 7.        , 8.        , 9.        ,\n",
       "       0.        , 1.        , 2.        , 5.33333333, 4.        ,\n",
       "       4.66666667, 6.        , 7.        , 8.        , 9.        ,\n",
       "       0.        , 9.        , 5.        , 5.        , 6.        ,\n",
       "       5.        , 0.        , 9.        , 8.        , 9.        ,\n",
       "       8.        , 4.        , 1.        , 7.        , 7.        ,\n",
       "       3.        , 5.        , 1.        , 0.        , 0.        ,\n",
       "       2.        , 2.        , 7.        , 8.        , 2.        ,\n",
       "       0.        , 1.        , 2.        , 6.        , 3.        ,\n",
       "       4.33333333, 7.        , 3.66666667, 3.        , 4.        ,\n",
       "       6.        , 6.        , 6.        , 4.        , 9.        ,\n",
       "       1.        , 5.        , 0.        , 9.        , 5.33333333,\n",
       "       2.        , 8.        , 2.        , 0.        , 0.        ,\n",
       "       1.        , 7.        , 6.        , 3.        , 2.        ,\n",
       "       1.        , 7.        , 4.        , 6.        , 3.        ,\n",
       "       1.        , 3.        , 9.        , 1.        , 7.        ,\n",
       "       6.        , 8.        , 4.        , 5.        , 1.        ,\n",
       "       4.        , 0.        , 5.        , 3.        , 6.        ,\n",
       "       9.        , 6.        , 1.        , 7.        , 5.        ,\n",
       "       4.        , 4.        , 7.        , 2.        , 8.        ,\n",
       "       2.        , 2.        , 5.        , 7.        , 9.        ,\n",
       "       5.        , 4.        , 5.66666667, 3.33333333, 4.        ,\n",
       "       9.        , 0.        , 8.        , 9.        , 8.        ])"
      ]
     },
     "execution_count": 210,
     "metadata": {},
     "output_type": "execute_result"
    }
   ],
   "source": [
    "# получаем предсказания. Они формата float. При оценке 7.33333333 не будет зачтено за 7\n",
    "knn.predict(X_test)"
   ]
  },
  {
   "cell_type": "code",
   "execution_count": 211,
   "metadata": {},
   "outputs": [
    {
     "data": {
      "text/plain": [
       "array([5., 2., 8., 0., 1., 7., 6., 3., 2., 1., 7., 7., 6., 3., 1., 5., 9.,\n",
       "       1., 7., 6., 8., 4., 3., 1., 4., 0., 5., 3., 6., 9., 6., 1., 7., 5.,\n",
       "       4., 4., 7., 2., 2., 5., 7., 3., 5., 7., 4., 6., 0., 8., 9., 8., 0.,\n",
       "       1., 2., 3., 4., 5., 6., 7., 8., 9., 0., 1., 2., 3., 4., 5., 6., 7.,\n",
       "       8., 9., 0., 1., 2., 5., 4., 5., 6., 7., 8., 9., 0., 9., 5., 5., 6.,\n",
       "       5., 0., 9., 8., 9., 8., 4., 1., 7., 7., 3., 5., 1., 0., 0., 2., 2.,\n",
       "       7., 8., 2., 0., 1., 2., 6., 3., 4., 7., 4., 3., 4., 6., 6., 6., 4.,\n",
       "       9., 1., 5., 0., 9., 5., 2., 8., 2., 0., 0., 1., 7., 6., 3., 2., 1.,\n",
       "       7., 4., 6., 3., 1., 3., 9., 1., 7., 6., 8., 4., 5., 1., 4., 0., 5.,\n",
       "       3., 6., 9., 6., 1., 7., 5., 4., 4., 7., 2., 8., 2., 2., 5., 7., 9.,\n",
       "       5., 4., 6., 3., 4., 9., 0., 8., 9., 8.])"
      ]
     },
     "execution_count": 211,
     "metadata": {},
     "output_type": "execute_result"
    }
   ],
   "source": [
    "# поэтому округлим результаты\n",
    "rounded_predict = np.round_(knn.predict(X_test), decimals=0, out=None)\n",
    "rounded_predict"
   ]
  },
  {
   "cell_type": "code",
   "execution_count": 212,
   "metadata": {},
   "outputs": [
    {
     "data": {
      "text/plain": [
       "array([5, 2, 8, 0, 1, 7, 6, 3, 2, 1, 7, 4, 6, 3, 1, 3, 9, 1, 7, 6, 8, 4,\n",
       "       3, 1, 4, 0, 5, 3, 6, 9, 6, 1, 7, 5, 4, 4, 7, 2, 2, 5, 7, 9, 5, 4,\n",
       "       4, 9, 0, 8, 9, 8, 0, 1, 2, 3, 4, 5, 6, 7, 8, 9, 0, 1, 2, 3, 4, 5,\n",
       "       6, 7, 8, 9, 0, 1, 2, 3, 4, 5, 6, 7, 8, 9, 0, 9, 5, 5, 6, 5, 0, 9,\n",
       "       8, 9, 8, 4, 1, 7, 7, 3, 5, 1, 0, 0, 2, 2, 7, 8, 2, 0, 1, 2, 6, 3,\n",
       "       3, 7, 3, 3, 4, 6, 6, 6, 4, 9, 1, 5, 0, 9, 5, 2, 8, 2, 0, 0, 1, 7,\n",
       "       6, 3, 2, 1, 7, 4, 6, 3, 1, 3, 9, 1, 7, 6, 8, 4, 3, 1, 4, 0, 5, 3,\n",
       "       6, 9, 6, 1, 7, 5, 4, 4, 7, 2, 8, 2, 2, 5, 7, 9, 5, 4, 8, 8, 4, 9,\n",
       "       0, 8, 9, 8])"
      ]
     },
     "execution_count": 212,
     "metadata": {},
     "output_type": "execute_result"
    }
   ],
   "source": [
    "# смотрим на тестовую выборку с ответами\n",
    "Y_test"
   ]
  },
  {
   "cell_type": "code",
   "execution_count": 213,
   "metadata": {},
   "outputs": [
    {
     "data": {
      "text/plain": [
       "0.9276331979820353"
      ]
     },
     "execution_count": 213,
     "metadata": {},
     "output_type": "execute_result"
    }
   ],
   "source": [
    "#Returns the mean accuracy on the given test data and labels.\n",
    "knn.score( X_test, Y_test ) "
   ]
  },
  {
   "cell_type": "code",
   "execution_count": 214,
   "metadata": {},
   "outputs": [
    {
     "data": {
      "text/plain": [
       "0.9388888888888889"
      ]
     },
     "execution_count": 214,
     "metadata": {},
     "output_type": "execute_result"
    }
   ],
   "source": [
    "# посчитаем accuracy_score для \"округленного\" ответа\n",
    "from sklearn.metrics import accuracy_score\n",
    "accuracy_score(rounded_predict, Y_test)"
   ]
  },
  {
   "cell_type": "code",
   "execution_count": 215,
   "metadata": {},
   "outputs": [],
   "source": [
    "# проверим точность самописной функцией\n",
    "def accuracy(y, y_pred):\n",
    "    y = pd.Series(list(y))\n",
    "    y_pred = pd.Series(list(y_pred))\n",
    "    \n",
    "    # рассчитываем значения\n",
    "    df = pd.concat([y,y_pred], axis=1, join='inner',ignore_index=True)\n",
    "    df['TP'] = ((df[0] == df[1]))\n",
    "    df['FP'] = ((df[0] != df[1]))\n",
    "    df['FN'] = ((df[0] != df[1]))\n",
    "    df['TN'] = ((df[0] != df[1]))\n",
    "    \n",
    "   \n",
    "    TP = np.sum(df['TP'])\n",
    "    FP = np.sum(df['FP'])\n",
    "    FN = np.sum(df['FN'])\n",
    "    TN = np.sum(df['TN'])\n",
    "    \n",
    "    \n",
    "    # считаем accuracy\n",
    "    accur = TP  / df.shape[0]\n",
    "    \n",
    "    #print('accuracy: ', accur)\n",
    "    return accur"
   ]
  },
  {
   "cell_type": "code",
   "execution_count": 216,
   "metadata": {},
   "outputs": [
    {
     "data": {
      "text/plain": [
       "0.9388888888888889"
      ]
     },
     "execution_count": 216,
     "metadata": {},
     "output_type": "execute_result"
    }
   ],
   "source": [
    "accuracy(rounded_predict, Y_test)"
   ]
  },
  {
   "cell_type": "code",
   "execution_count": 217,
   "metadata": {},
   "outputs": [
    {
     "data": {
      "text/plain": [
       "(array([ 11,  15,  41,  43,  45,  73, 110, 112, 148, 172, 173], dtype=int64),)"
      ]
     },
     "execution_count": 217,
     "metadata": {},
     "output_type": "execute_result"
    }
   ],
   "source": [
    "faults = np.where(Y_test != rounded_predict)#[0]\n",
    "faults"
   ]
  },
  {
   "cell_type": "code",
   "execution_count": 239,
   "metadata": {},
   "outputs": [],
   "source": [
    "def faults(y, y_pred):\n",
    "    y = pd.Series(list(y))\n",
    "    y_pred = pd.Series(list(y_pred))\n",
    "    \n",
    "    # рассчитываем значения\n",
    "    df = pd.concat([y,y_pred], axis=1, join='inner',ignore_index=True)\n",
    "    df['TP'] = ((df[0] == df[1]))\n",
    "        \n",
    "    return df"
   ]
  },
  {
   "cell_type": "code",
   "execution_count": 240,
   "metadata": {},
   "outputs": [
    {
     "data": {
      "text/html": [
       "<div>\n",
       "<style scoped>\n",
       "    .dataframe tbody tr th:only-of-type {\n",
       "        vertical-align: middle;\n",
       "    }\n",
       "\n",
       "    .dataframe tbody tr th {\n",
       "        vertical-align: top;\n",
       "    }\n",
       "\n",
       "    .dataframe thead th {\n",
       "        text-align: right;\n",
       "    }\n",
       "</style>\n",
       "<table border=\"1\" class=\"dataframe\">\n",
       "  <thead>\n",
       "    <tr style=\"text-align: right;\">\n",
       "      <th></th>\n",
       "      <th>0</th>\n",
       "      <th>1</th>\n",
       "      <th>TP</th>\n",
       "    </tr>\n",
       "  </thead>\n",
       "  <tbody>\n",
       "    <tr>\n",
       "      <th>170</th>\n",
       "      <td>5.0</td>\n",
       "      <td>5</td>\n",
       "      <td>True</td>\n",
       "    </tr>\n",
       "    <tr>\n",
       "      <th>171</th>\n",
       "      <td>4.0</td>\n",
       "      <td>4</td>\n",
       "      <td>True</td>\n",
       "    </tr>\n",
       "    <tr>\n",
       "      <th>172</th>\n",
       "      <td>6.0</td>\n",
       "      <td>8</td>\n",
       "      <td>False</td>\n",
       "    </tr>\n",
       "    <tr>\n",
       "      <th>173</th>\n",
       "      <td>3.0</td>\n",
       "      <td>8</td>\n",
       "      <td>False</td>\n",
       "    </tr>\n",
       "    <tr>\n",
       "      <th>174</th>\n",
       "      <td>4.0</td>\n",
       "      <td>4</td>\n",
       "      <td>True</td>\n",
       "    </tr>\n",
       "    <tr>\n",
       "      <th>175</th>\n",
       "      <td>9.0</td>\n",
       "      <td>9</td>\n",
       "      <td>True</td>\n",
       "    </tr>\n",
       "    <tr>\n",
       "      <th>176</th>\n",
       "      <td>0.0</td>\n",
       "      <td>0</td>\n",
       "      <td>True</td>\n",
       "    </tr>\n",
       "    <tr>\n",
       "      <th>177</th>\n",
       "      <td>8.0</td>\n",
       "      <td>8</td>\n",
       "      <td>True</td>\n",
       "    </tr>\n",
       "    <tr>\n",
       "      <th>178</th>\n",
       "      <td>9.0</td>\n",
       "      <td>9</td>\n",
       "      <td>True</td>\n",
       "    </tr>\n",
       "    <tr>\n",
       "      <th>179</th>\n",
       "      <td>8.0</td>\n",
       "      <td>8</td>\n",
       "      <td>True</td>\n",
       "    </tr>\n",
       "  </tbody>\n",
       "</table>\n",
       "</div>"
      ],
      "text/plain": [
       "       0  1     TP\n",
       "170  5.0  5   True\n",
       "171  4.0  4   True\n",
       "172  6.0  8  False\n",
       "173  3.0  8  False\n",
       "174  4.0  4   True\n",
       "175  9.0  9   True\n",
       "176  0.0  0   True\n",
       "177  8.0  8   True\n",
       "178  9.0  9   True\n",
       "179  8.0  8   True"
      ]
     },
     "execution_count": 240,
     "metadata": {},
     "output_type": "execute_result"
    }
   ],
   "source": [
    "df_accuracy = faults(rounded_predict, Y_test)\n",
    "df_accuracy.tail(10)"
   ]
  },
  {
   "cell_type": "code",
   "execution_count": 241,
   "metadata": {},
   "outputs": [],
   "source": [
    "df_accuracy.columns = ['rounded_predict', 'Y_test', 'TP']"
   ]
  },
  {
   "cell_type": "code",
   "execution_count": 242,
   "metadata": {},
   "outputs": [
    {
     "data": {
      "text/html": [
       "<div>\n",
       "<style scoped>\n",
       "    .dataframe tbody tr th:only-of-type {\n",
       "        vertical-align: middle;\n",
       "    }\n",
       "\n",
       "    .dataframe tbody tr th {\n",
       "        vertical-align: top;\n",
       "    }\n",
       "\n",
       "    .dataframe thead th {\n",
       "        text-align: right;\n",
       "    }\n",
       "</style>\n",
       "<table border=\"1\" class=\"dataframe\">\n",
       "  <thead>\n",
       "    <tr style=\"text-align: right;\">\n",
       "      <th></th>\n",
       "      <th>rounded_predict</th>\n",
       "      <th>Y_test</th>\n",
       "      <th>TP</th>\n",
       "    </tr>\n",
       "  </thead>\n",
       "  <tbody>\n",
       "    <tr>\n",
       "      <th>11</th>\n",
       "      <td>7.0</td>\n",
       "      <td>4</td>\n",
       "      <td>False</td>\n",
       "    </tr>\n",
       "    <tr>\n",
       "      <th>15</th>\n",
       "      <td>5.0</td>\n",
       "      <td>3</td>\n",
       "      <td>False</td>\n",
       "    </tr>\n",
       "    <tr>\n",
       "      <th>41</th>\n",
       "      <td>3.0</td>\n",
       "      <td>9</td>\n",
       "      <td>False</td>\n",
       "    </tr>\n",
       "    <tr>\n",
       "      <th>43</th>\n",
       "      <td>7.0</td>\n",
       "      <td>4</td>\n",
       "      <td>False</td>\n",
       "    </tr>\n",
       "    <tr>\n",
       "      <th>45</th>\n",
       "      <td>6.0</td>\n",
       "      <td>9</td>\n",
       "      <td>False</td>\n",
       "    </tr>\n",
       "    <tr>\n",
       "      <th>73</th>\n",
       "      <td>5.0</td>\n",
       "      <td>3</td>\n",
       "      <td>False</td>\n",
       "    </tr>\n",
       "    <tr>\n",
       "      <th>110</th>\n",
       "      <td>4.0</td>\n",
       "      <td>3</td>\n",
       "      <td>False</td>\n",
       "    </tr>\n",
       "    <tr>\n",
       "      <th>112</th>\n",
       "      <td>4.0</td>\n",
       "      <td>3</td>\n",
       "      <td>False</td>\n",
       "    </tr>\n",
       "    <tr>\n",
       "      <th>148</th>\n",
       "      <td>5.0</td>\n",
       "      <td>3</td>\n",
       "      <td>False</td>\n",
       "    </tr>\n",
       "    <tr>\n",
       "      <th>172</th>\n",
       "      <td>6.0</td>\n",
       "      <td>8</td>\n",
       "      <td>False</td>\n",
       "    </tr>\n",
       "    <tr>\n",
       "      <th>173</th>\n",
       "      <td>3.0</td>\n",
       "      <td>8</td>\n",
       "      <td>False</td>\n",
       "    </tr>\n",
       "  </tbody>\n",
       "</table>\n",
       "</div>"
      ],
      "text/plain": [
       "     rounded_predict  Y_test     TP\n",
       "11               7.0       4  False\n",
       "15               5.0       3  False\n",
       "41               3.0       9  False\n",
       "43               7.0       4  False\n",
       "45               6.0       9  False\n",
       "73               5.0       3  False\n",
       "110              4.0       3  False\n",
       "112              4.0       3  False\n",
       "148              5.0       3  False\n",
       "172              6.0       8  False\n",
       "173              3.0       8  False"
      ]
     },
     "execution_count": 242,
     "metadata": {},
     "output_type": "execute_result"
    }
   ],
   "source": [
    "# Посмотрим, какие цифры плохо распознались\n",
    "df_accuracy[df_accuracy['TP']==False]"
   ]
  }
 ],
 "metadata": {
  "kernelspec": {
   "display_name": "Python 3",
   "language": "python",
   "name": "python3"
  },
  "language_info": {
   "codemirror_mode": {
    "name": "ipython",
    "version": 3
   },
   "file_extension": ".py",
   "mimetype": "text/x-python",
   "name": "python",
   "nbconvert_exporter": "python",
   "pygments_lexer": "ipython3",
   "version": "3.7.0"
  }
 },
 "nbformat": 4,
 "nbformat_minor": 2
}
